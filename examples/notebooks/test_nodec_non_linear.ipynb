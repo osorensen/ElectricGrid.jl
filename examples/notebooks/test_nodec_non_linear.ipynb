{
 "cells": [
  {
   "cell_type": "code",
   "execution_count": 12,
   "metadata": {},
   "outputs": [],
   "source": [
    "using ElectricGrid\n",
    "using ControlSystemsBase\n",
    "using PlotlyJS"
   ]
  },
  {
   "cell_type": "code",
   "execution_count": 13,
   "metadata": {},
   "outputs": [],
   "source": [
    "CM = [0 1\n",
    "    -1 0]\n",
    "    \n",
    "# Source\n",
    "R = 1.1e-3\n",
    "L = 70e-6\n",
    "C = 250e-6\n",
    "\n",
    "# Cable\n",
    "C_b = 1e-4/2\n",
    "L_b = x->1e-4\n",
    "R_b = 1e-3\n",
    "\n",
    "# Load\n",
    "R_l = 100\n",
    "C_l = 1e-2\n",
    "L_l = 1e-2;\n",
    "\n",
    "parameters = Dict()\n",
    "\n",
    "grid_properties = Dict()\n",
    "grid_properties[\"fs\"] =  10e3\n",
    "grid_properties[\"v_rms\"] = 230\n",
    "grid_properties[\"phase\"] = 1;\n",
    "parameters[\"grid\"] = grid_properties\n",
    "\n",
    "source1 = Dict()\n",
    "source_list = []\n",
    "\n",
    "# source1[\"fltr\"] = \"LC\"\n",
    "source1[\"fltr\"] = \"L\"\n",
    "source1[\"R1\"] = R\n",
    "source1[\"L1\"] = L\n",
    "# source1[\"C\"] = C\n",
    "\n",
    "push!(source_list, source1)\n",
    "\n",
    "parameters[\"source\"] = source_list\n",
    "\n",
    "cable = Dict()\n",
    "cable[\"R\"] = R_b\n",
    "cable[\"L\"] = L_b\n",
    "cable[\"C\"] = C_b\n",
    "cable_list = []\n",
    "\n",
    "push!(cable_list, cable);\n",
    "parameters[\"cable\"] = cable_list\n",
    "\n",
    "load1 = Dict()\n",
    "load_list = []\n",
    "\n",
    "load1[\"impedance\"] = \"RLC\"\n",
    "load1[\"R\"] = R_l;\n",
    "load1[\"L\"] = L_l;\n",
    "load1[\"C\"] = C_l;\n",
    "\n",
    "push!(load_list, load1);\n",
    "parameters[\"load\"] = load_list;"
   ]
  },
  {
   "cell_type": "code",
   "execution_count": 15,
   "metadata": {},
   "outputs": [],
   "source": [
    "nc = NodeConstructor(num_sources=1, num_loads=1, parameters=parameters, CM=CM);"
   ]
  },
  {
   "cell_type": "code",
   "execution_count": 16,
   "metadata": {},
   "outputs": [
    {
     "name": "stdout",
     "output_type": "stream",
     "text": [
      "self.parameters = Dict{Any, Any}(\"source\" => Any[Dict{Any, Any}(\"L1\" => 7.0e-5, \"mode\" => \"Synchronverter\", \"fltr\" => \"L\", \"pwr\" => 5000.0, \"source_type\" => \"ideal\", \"std_asy\" => NaN, \"σ\" => 0.0, \"i_limit\" => 15.737883846284443, \"v_rip\" => 0.01537, \"v_δ_set\" => 0.0, \"vdc\" => 800, \"τv\" => 0.002, \"k\" => 0, \"R1\" => 0.0011, \"v_limit\" => 1209.222, \"τf\" => 0.002, \"i_rip\" => 0.15, \"v_pu_set\" => 1.0, \"control_type\" => \"classic\", \"κ\" => 0.0, \"Δt\" => 0.02, \"γ\" => 0, \"X₀\" => 0, \"p_set\" => 0, \"q_set\" => 0, \"pf\" => 0.8)], \"grid\" => Dict{Any, Any}(\"f_grid\" => 50.0, \"Δfmax\" => 0.5, \"fs\" => 10000.0, \"process_start\" => 0.04, \"phase\" => 1, \"ramp_end\" => 0.04, \"ΔEmax\" => 5, \"pwr\" => 5000.0, \"v_rms\" => 230), \"load\" => Any[Dict{Any, Any}(\"Z\" => 0.0012545437087988717 - 0.3541931634009469im, \"C\" => 0.01, \"i_limit\" => 826.4992138897273, \"L\" => 0.01, \"R\" => 100, \"pwr\" => 149352.59524550964, \"pf\" => -0.003541953851758731, \"impedance\" => \"RLC\")], \"cable\" => Any[Dict{Any, Any}(\"C\" => 5.0e-5, \"len\" => 0.05395110108466829, \"L\" => var\"#21#22\"(), \"R\" => 0.001)])\n",
      "A = Any[-15.714285714285717 -14285.714285714286 0 0 0; 40000.0 0 -40000.0 0 0; 0 Zygote.var\"#79#80\"{ElectricGrid.var\"#27#28\"{Int64, ElectricGrid.var\"#19#20\"{Int64, var\"#21#22\"}}}(ElectricGrid.var\"#27#28\"{Int64, ElectricGrid.var\"#19#20\"{Int64, var\"#21#22\"}}(1, ElectricGrid.var\"#19#20\"{Int64, var\"#21#22\"}(1, var\"#21#22\"()))) ElectricGrid.var\"#19#20\"{Float64, var\"#21#22\"}(-0.001, var\"#21#22\"()) ElectricGrid.var\"#27#28\"{Int64, ElectricGrid.var\"#19#20\"{Int64, var\"#21#22\"}}(-1, ElectricGrid.var\"#19#20\"{Int64, var\"#21#22\"}(1, var\"#21#22\"())) 0; 0 0 99.7506234413965 -0.9975062344139649 -99.7506234413965; 0 0 0 100.0 0]\n"
     ]
    },
    {
     "data": {
      "text/plain": [
       "5×5 Matrix{Any}:\n",
       "   -15.7143  -14285.7        0         0           0\n",
       " 40000.0          0     -40000.0       0           0\n",
       "     0             #79        #19       #27        0\n",
       "     0            0         99.7506   -0.997506  -99.7506\n",
       "     0            0          0       100.0         0"
      ]
     },
     "metadata": {},
     "output_type": "display_data"
    }
   ],
   "source": [
    "A, B, C, D = GetSystem(nc);\n",
    "@show A"
   ]
  },
  {
   "cell_type": "code",
   "execution_count": 17,
   "metadata": {},
   "outputs": [
    {
     "data": {
      "text/plain": [
       "5×5 Matrix{Union{Nothing, Real}}:\n",
       "   -15.7143  -14285.7            0            0           0\n",
       " 40000.0          0         -40000.0          0           0\n",
       "     0             nothing     -10.0     -10000.0         0\n",
       "     0            0             99.7506      -0.997506  -99.7506\n",
       "     0            0              0          100.0         0"
      ]
     },
     "metadata": {},
     "output_type": "display_data"
    }
   ],
   "source": [
    "(rows, columns) = size(A)\n",
    "AA = Matrix{Any}(undef, (rows, columns))\n",
    "for row in 1:rows\n",
    "    for column in 1:columns\n",
    "        h = A[row, column]\n",
    "        if isa(h, Number)\n",
    "            AA[row, column] = x -> h\n",
    "        else\n",
    "            AA[row, column] = h\n",
    "        end\n",
    "    end\n",
    "end\n",
    "\n",
    "AAA(x) = (|>).(x, AA)\n",
    "\n",
    "AAA([0, 0, 0, 0, 0])"
   ]
  },
  {
   "cell_type": "code",
   "execution_count": 6,
   "metadata": {},
   "outputs": [
    {
     "data": {
      "text/plain": [
       "5×5 Matrix{Union{Nothing, Real}}:\n",
       "   -15.7143  -14285.7            0            0           0\n",
       " 40000.0          0         -40000.0          0           0\n",
       "     0             nothing     -10.0     -10000.0         0\n",
       "     0            0             99.7506      -0.997506  -99.7506\n",
       "     0            0              0          100.0         0"
      ]
     },
     "metadata": {},
     "output_type": "display_data"
    }
   ],
   "source": [
    "AAA([0,0,1,0,3])"
   ]
  },
  {
   "cell_type": "code",
   "execution_count": 7,
   "metadata": {},
   "outputs": [
    {
     "ename": "MethodError",
     "evalue": "MethodError: no method matching exp(::Matrix{Any})\nClosest candidates are:\n  exp(!Matched::Union{Float16, Float32, Float64}) at special/exp.jl:326\n  exp(!Matched::StridedMatrix{var\"#s885\"} where var\"#s885\"<:Union{Float32, Float64, ComplexF32, ComplexF64}) at /Applications/Julia-1.8.app/Contents/Resources/julia/share/julia/stdlib/v1.8/LinearAlgebra/src/dense.jl:569\n  exp(!Matched::StridedMatrix{var\"#s885\"} where var\"#s885\"<:Union{Integer, Complex{<:Integer}}) at /Applications/Julia-1.8.app/Contents/Resources/julia/share/julia/stdlib/v1.8/LinearAlgebra/src/dense.jl:570\n  ...",
     "output_type": "error",
     "traceback": [
      "MethodError: no method matching exp(::Matrix{Any})\n",
      "Closest candidates are:\n",
      "  exp(!Matched::Union{Float16, Float32, Float64}) at special/exp.jl:326\n",
      "  exp(!Matched::StridedMatrix{var\"#s885\"} where var\"#s885\"<:Union{Float32, Float64, ComplexF32, ComplexF64}) at /Applications/Julia-1.8.app/Contents/Resources/julia/share/julia/stdlib/v1.8/LinearAlgebra/src/dense.jl:569\n",
      "  exp(!Matched::StridedMatrix{var\"#s885\"} where var\"#s885\"<:Union{Integer, Complex{<:Integer}}) at /Applications/Julia-1.8.app/Contents/Resources/julia/share/julia/stdlib/v1.8/LinearAlgebra/src/dense.jl:570\n",
      "  ...\n",
      "\n",
      "Stacktrace:\n",
      " [1] top-level scope\n",
      "   @ ~/Documents/GitHub/ElectricGrid.jl/examples/notebooks/test_nodec_non_linear.ipynb:2"
     ]
    }
   ],
   "source": [
    "ts = 1e-5\n",
    "Ad = exp(A*ts)\n",
    "Bd = A \\ (Ad - C) * B\n",
    "sys_d = StateSpace(Ad, Bd, C, D, ts);\n",
    "GetStateIds(nc)"
   ]
  },
  {
   "cell_type": "code",
   "execution_count": 8,
   "metadata": {},
   "outputs": [],
   "source": [
    "ns = length(A[1,:]) # get num of states\n",
    "ni = length(B[1,:]) # get num of inputs\n",
    "t = collect(0:ts:0.1)\n",
    "x0 = [0.0 for i = 1:ns]\n",
    "u = [250.0 for i = 1:length(t)]\n",
    "uu = [u for i = 1:ni ]\n",
    "uuu = mapreduce(permutedims, vcat, uu);"
   ]
  },
  {
   "cell_type": "code",
   "execution_count": 9,
   "metadata": {},
   "outputs": [
    {
     "ename": "UndefVarError",
     "evalue": "UndefVarError: sys_d not defined",
     "output_type": "error",
     "traceback": [
      "UndefVarError: sys_d not defined\n",
      "\n",
      "Stacktrace:\n",
      " [1] top-level scope\n",
      "   @ ~/Documents/GitHub/ElectricGrid.jl/examples/notebooks/test_nodec_non_linear.ipynb:1"
     ]
    }
   ],
   "source": [
    "xout, _, _, _ = lsim(sys_d,uuu,t,x0=x0);"
   ]
  },
  {
   "cell_type": "code",
   "execution_count": 10,
   "metadata": {},
   "outputs": [
    {
     "ename": "UndefVarError",
     "evalue": "UndefVarError: xout not defined",
     "output_type": "error",
     "traceback": [
      "UndefVarError: xout not defined\n",
      "\n",
      "Stacktrace:\n",
      " [1] x_plot(i::Int64)\n",
      "   @ Main ~/Documents/GitHub/ElectricGrid.jl/examples/notebooks/test_nodec_non_linear.ipynb:2\n",
      " [2] trace(i::Int64)\n",
      "   @ Main ~/Documents/GitHub/ElectricGrid.jl/examples/notebooks/test_nodec_non_linear.ipynb:4\n",
      " [3] top-level scope\n",
      "   @ ~/Documents/GitHub/ElectricGrid.jl/examples/notebooks/test_nodec_non_linear.ipynb:6"
     ]
    }
   ],
   "source": [
    "layout = Layout(xaxis_title=\"time\", yaxis_title=\"Amplitude\")\n",
    "x_plot(i) = xout[i,:]\n",
    "a = [\"i_LS\",\"u_CK\",\"i_LK\",\"u_CKL\",\"i_LL\"]\n",
    "trace(i) = scatter(x=t, y=x_plot(i), mode=\"lines\",name = \"$(a[i])\")\n",
    "\n",
    "plot([trace(1),trace(2),trace(3),trace(4),trace(5)], layout)"
   ]
  }
 ],
 "metadata": {
  "kernelspec": {
   "display_name": "Julia 1.8.3",
   "language": "julia",
   "name": "julia-1.8"
  },
  "language_info": {
   "file_extension": ".jl",
   "mimetype": "application/julia",
   "name": "julia",
   "version": "1.8.3"
  },
  "orig_nbformat": 4
 },
 "nbformat": 4,
 "nbformat_minor": 2
}
