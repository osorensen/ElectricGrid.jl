{
 "cells": [
  {
   "cell_type": "code",
   "execution_count": 1,
   "metadata": {},
   "outputs": [],
   "source": [
    "using ElectricGrid"
   ]
  },
  {
   "cell_type": "code",
   "execution_count": null,
   "metadata": {},
   "outputs": [],
   "source": [
    "# Source\n",
    "R = 1.1e-3\n",
    "L = 70e-6\n",
    "\n",
    "# Cable\n",
    "C_b = 1e-4/2\n",
    "L_b = 1e-4\n",
    "R_b = 1e-3\n",
    "\n",
    "# Load\n",
    "R_l = 100\n",
    "C_l = 1e-2\n",
    "L_l = 1e-2;\n",
    "\n",
    "parameters = Dict()\n",
    "\n",
    "grid_properties = Dict()\n",
    "grid_properties[\"fs\"] =  10e3\n",
    "grid_properties[\"v_rms\"] = 230\n",
    "grid_properties[\"phase\"] = 1;\n",
    "parameters[\"grid\"] = grid_properties\n",
    "\n",
    "source1 = Dict()\n",
    "source_list = []\n",
    "\n",
    "source1[\"fltr\"] = \"RL\"\n",
    "source1[\"R1\"] = R\n",
    "source1[\"L1\"] = L\n",
    "\n",
    "push!(source_list, source1)\n",
    "\n",
    "parameters[\"source\"] = source_list\n",
    "\n",
    "cable = Dict()\n",
    "cable[\"R\"] = R_b\n",
    "cable[\"L\"] = L_b\n",
    "cable[\"C\"] = C_b\n",
    "cable_list = []\n",
    "\n",
    "push!(cable_list, cable);\n",
    "parameters[\"cable\"] = cable_list\n",
    "\n",
    "load1 = Dict()\n",
    "load_list = []\n",
    "\n",
    "load1[\"impedance\"] = \"RLC\"\n",
    "load1[\"R\"] = R_l;\n",
    "load1[\"L\"] = L_l;\n",
    "load1[\"C\"] = C_l;\n",
    "\n",
    "push!(load_list, load1);\n",
    "parameters[\"load\"] = load_list;"
   ]
  }
 ],
 "metadata": {
  "kernelspec": {
   "display_name": "Julia 1.8.3",
   "language": "julia",
   "name": "julia-1.8"
  },
  "language_info": {
   "file_extension": ".jl",
   "mimetype": "application/julia",
   "name": "julia",
   "version": "1.8.3"
  },
  "orig_nbformat": 4
 },
 "nbformat": 4,
 "nbformat_minor": 2
}
