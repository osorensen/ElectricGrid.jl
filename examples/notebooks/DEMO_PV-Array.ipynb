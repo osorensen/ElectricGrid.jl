{
 "cells": [
  {
   "cell_type": "code",
   "execution_count": 1,
   "id": "eca25340",
   "metadata": {},
   "outputs": [
    {
     "name": "stderr",
     "output_type": "stream",
     "text": [
      "┌ Info: Precompiling DrWatson [634d3b9d-ee7a-5ddf-bec9-22491ea816e1]\n",
      "└ @ Base loading.jl:1664\n",
      "WARNING: method definition for roundval at C:\\Users\\marmey\\.julia\\packages\\DrWatson\\S4dYA\\src\\naming.jl:147 declares type variable T but does not use it.\n",
      "┌ Info: Precompiling ReinforcementLearning [158674fc-8238-5cab-b5ba-03dfc80d1318]\n",
      "└ @ Base loading.jl:1664\n",
      "WARNING: method definition for attribute at C:\\Users\\marmey\\.julia\\packages\\CUDA\\DfvRa\\lib\\cudadrv\\pool.jl:79 declares type variable T but does not use it.\n",
      "WARNING: method definition for attribute! at C:\\Users\\marmey\\.julia\\packages\\CUDA\\DfvRa\\lib\\cudadrv\\pool.jl:90 declares type variable T but does not use it.\n",
      "WARNING: method definition for #cudacall#42 at C:\\Users\\marmey\\.julia\\packages\\CUDA\\DfvRa\\lib\\cudadrv\\execution.jl:131 declares type variable N but does not use it.\n",
      "WARNING: method definition for #bitonic_sort!#3 at C:\\Users\\marmey\\.julia\\packages\\CUDA\\DfvRa\\src\\sorting.jl:836 declares type variable T but does not use it.\n",
      "┌ Info: Precompiling ControlSystems [a6e380b2-a6ca-5380-bf3e-84a91bcd477e]\n",
      "└ @ Base loading.jl:1664\n",
      "WARNING: method definition for is_diagonal_noise at C:\\Users\\marmey\\.julia\\packages\\SciMLBase\\Mn52A\\src\\problems\\problem_traits.jl:12 declares type variable ND but does not use it.\n"
     ]
    },
    {
     "ename": "LoadError",
     "evalue": "InterruptException:",
     "output_type": "error",
     "traceback": [
      "InterruptException:",
      "",
      "Stacktrace:",
      "  [1] try_yieldto(undo::typeof(Base.ensure_rescheduled))",
      "    @ Base .\\task.jl:871",
      "  [2] wait()",
      "    @ Base .\\task.jl:931",
      "  [3] wait(c::Base.GenericCondition{Base.Threads.SpinLock})",
      "    @ Base .\\condition.jl:124",
      "  [4] wait(x::Base.Process)",
      "    @ Base .\\process.jl:661",
      "  [5] success(x::Base.Process)",
      "    @ Base .\\process.jl:523",
      "  [6] compilecache(pkg::Base.PkgId, path::String, internal_stderr::IO, internal_stdout::IO, keep_loaded_modules::Bool)",
      "    @ Base .\\loading.jl:1674",
      "  [7] compilecache",
      "    @ .\\loading.jl:1651 [inlined]",
      "  [8] _require(pkg::Base.PkgId)",
      "    @ Base .\\loading.jl:1337",
      "  [9] _require_prelocked(uuidkey::Base.PkgId)",
      "    @ Base .\\loading.jl:1200",
      " [10] macro expansion",
      "    @ .\\loading.jl:1180 [inlined]",
      " [11] macro expansion",
      "    @ .\\lock.jl:223 [inlined]",
      " [12] require(into::Module, mod::Symbol)",
      "    @ Base .\\loading.jl:1144",
      " [13] eval",
      "    @ .\\boot.jl:368 [inlined]",
      " [14] include_string(mapexpr::typeof(REPL.softscope), mod::Module, code::String, filename::String)",
      "    @ Base .\\loading.jl:1428"
     ]
    }
   ],
   "source": [
    "using DrWatson\n",
    "@quickactivate \"ElectricGrid\"\n",
    "\n",
    "using ReinforcementLearning\n",
    "using IntervalSets\n",
    "using LinearAlgebra\n",
    "using ControlSystems\n",
    "using CUDA\n",
    "using DataFrames\n",
    "# using Plots\n",
    "\n",
    "include(srcdir(\"node_constructor.jl\"))\n",
    "include(srcdir(\"solar_module.jl\"))\n",
    "\n",
    "include(srcdir(\"electric_grid_env.jl\"));"
   ]
  },
  {
   "cell_type": "markdown",
   "id": "449e5b28",
   "metadata": {},
   "source": [
    "## The PV-Array"
   ]
  },
  {
   "cell_type": "markdown",
   "id": "1e65bda2",
   "metadata": {},
   "source": [
    "This notebook will explain the PV arrays structurally and how they were implemented.\n",
    "\n",
    "As a basis serves the [paper](https://doi.org/10.1016/j.nrjag.2014.04.001) which explains the physical characteristics of a PV module in more detail. In order to avoid further calculations at runtime, a simpler approximation is used, the ideal single diode model. This neglects the parallel and series resistance of the PV module.\n",
    "\n",
    "In the following we define a mutable struct with the most important data of a PV module, most of the data are given by the data sheets."
   ]
  },
  {
   "cell_type": "code",
   "execution_count": 2,
   "id": "93a2dd6c",
   "metadata": {},
   "outputs": [
    {
     "ename": "LoadError",
     "evalue": "UndefVarError: SolarModule not defined",
     "output_type": "error",
     "traceback": [
      "UndefVarError: SolarModule not defined",
      "",
      "Stacktrace:",
      " [1] top-level scope",
      "   @ In[2]:1",
      " [2] eval",
      "   @ .\\boot.jl:368 [inlined]",
      " [3] include_string(mapexpr::typeof(REPL.softscope), mod::Module, code::String, filename::String)",
      "   @ Base .\\loading.jl:1428"
     ]
    }
   ],
   "source": [
    "PV_mod = SolarModule(); # For this example we use the default values"
   ]
  },
  {
   "cell_type": "markdown",
   "id": "d99cfe40",
   "metadata": {},
   "source": [
    "As a rule, many of the modules are initially connected in series, especially in large systems, in order to increase the voltage. Further modules can then be added in parallel to further increase the current.\n",
    "\n",
    "We therefore define another mutable struc, which inherits the properties of the PV module and specifies how many modules are to be created in series and then again in parallel to it.\n",
    "\n",
    "For real applications, this often leads to problems, since shadowing of individual cells (!!!) can result in a large drop in power. Therefore, in practice, countermeasures are often taken, such as the integration of bypass diodes."
   ]
  },
  {
   "cell_type": "code",
   "execution_count": 3,
   "id": "d8be97b1",
   "metadata": {},
   "outputs": [
    {
     "ename": "LoadError",
     "evalue": "UndefVarError: PV_mod not defined",
     "output_type": "error",
     "traceback": [
      "UndefVarError: PV_mod not defined",
      "",
      "Stacktrace:",
      " [1] top-level scope",
      "   @ In[3]:1",
      " [2] eval",
      "   @ .\\boot.jl:368 [inlined]",
      " [3] include_string(mapexpr::typeof(REPL.softscope), mod::Module, code::String, filename::String)",
      "   @ Base .\\loading.jl:1428"
     ]
    }
   ],
   "source": [
    "PV_arr = SolarArray(;SolarModule=PV_mod)"
   ]
  },
  {
   "attachments": {},
   "cell_type": "markdown",
   "id": "b9d6d75f",
   "metadata": {},
   "source": [
    "Now let us take a look  characteristics for different irradiations. Therefore, we define a function that gives us the current as a function of voltage, irradiation and temperature. In addition, a function should also output the voltage as a function of current, irradiation and temperature, since this will later be interesting for our application in ElectricGrid.jl."
   ]
  },
  {
   "cell_type": "markdown",
   "id": "5537e4c5",
   "metadata": {},
   "source": [
    "### Funktion for module"
   ]
  },
  {
   "attachments": {},
   "cell_type": "markdown",
   "id": "9553f855",
   "metadata": {},
   "source": [
    "For the purpose of this notebook, the functions here are defined vectorially so that they can be evaluated directly for multiple irradiances and voltages.\n",
    "\n",
    "The functions that are later used in the ElectricGrid.jl environment return only a scalar value."
   ]
  },
  {
   "cell_type": "code",
   "execution_count": 4,
   "id": "d8ecfe79",
   "metadata": {},
   "outputs": [
    {
     "ename": "LoadError",
     "evalue": "UndefVarError: SolarModule not defined",
     "output_type": "error",
     "traceback": [
      "UndefVarError: SolarModule not defined",
      "",
      "Stacktrace:",
      " [1] top-level scope",
      "   @ In[4]:1",
      " [2] eval",
      "   @ .\\boot.jl:368 [inlined]",
      " [3] include_string(mapexpr::typeof(REPL.softscope), mod::Module, code::String, filename::String)",
      "   @ Base .\\loading.jl:1428"
     ]
    }
   ],
   "source": [
    "function GetI_vec(self::SolarModule, V, G, T)\n",
    "    \n",
    "    function I_photo(self::SolarModule, G, T)\n",
    "        dT = self.T_0 + T\n",
    "        I_ph = G./self.G_ref*(self.I_ph_ref + self.mu_sc * dT).* ones(length(V))'\n",
    "        return I_ph\n",
    "    end;\n",
    "\n",
    "    function I_diode(self::SolarModule, V, G, T)\n",
    "        dT = self.T_0 + T\n",
    "        V_T = self.k*dT/self.q\n",
    "        I_d = self.I_0*(exp.(V/(self.ni*self.N_cell*V_T)).-1).*ones(5)'\n",
    "        return I_d\n",
    "    end;\n",
    "    \n",
    "    I = (I_photo(self, G, T)' - I_diode(self, V, G, T))\n",
    "    return I\n",
    "end\n"
   ]
  },
  {
   "cell_type": "code",
   "execution_count": 5,
   "id": "f44fb90e",
   "metadata": {},
   "outputs": [
    {
     "ename": "LoadError",
     "evalue": "UndefVarError: SolarModule not defined",
     "output_type": "error",
     "traceback": [
      "UndefVarError: SolarModule not defined",
      "",
      "Stacktrace:",
      " [1] top-level scope",
      "   @ In[5]:3",
      " [2] eval",
      "   @ .\\boot.jl:368 [inlined]",
      " [3] include_string(mapexpr::typeof(REPL.softscope), mod::Module, code::String, filename::String)",
      "   @ Base .\\loading.jl:1428"
     ]
    }
   ],
   "source": [
    "# Not working!\n",
    "\n",
    "function GetV_vec(self::SolarModule, I, G, T)\n",
    "    function I_photo(self::SolarModule, G, T)\n",
    "        dT = self.T_0 + T\n",
    "        I_ph = G/self.G_ref*(self.I_ph_ref + self.mu_sc * dT)* ones(length(I))';\n",
    "        return I_ph\n",
    "    end;\n",
    "    \n",
    "#     I = maximum.([0,I])\n",
    "    \n",
    "    res = (I_photo(self, G, T)-I)\n",
    "    \n",
    "    dT = self.T_0 + T\n",
    "    V_T = self.k*dT/self.q\n",
    "    \n",
    "    if res <= 0\n",
    "        V=0\n",
    "    else\n",
    "        V = self.ni*self.N_cell*V_T*(log((res)/self.I_0)+1)\n",
    "    end\n",
    "    \n",
    "    return V\n",
    "end"
   ]
  },
  {
   "cell_type": "markdown",
   "id": "f6739387",
   "metadata": {},
   "source": [
    "## Characteristics for PV modules"
   ]
  },
  {
   "cell_type": "markdown",
   "id": "86bc4ff0",
   "metadata": {},
   "source": [
    "Here the values are defined for which the modules are to be evaluated."
   ]
  },
  {
   "cell_type": "code",
   "execution_count": 6,
   "id": "b1d4feb4",
   "metadata": {},
   "outputs": [],
   "source": [
    "T = 25\n",
    "G = collect(200:200:1000)\n",
    "V = collect(0:0.1:30);"
   ]
  },
  {
   "cell_type": "code",
   "execution_count": 7,
   "id": "2219dea5",
   "metadata": {},
   "outputs": [
    {
     "ename": "LoadError",
     "evalue": "UndefVarError: PV_mod not defined",
     "output_type": "error",
     "traceback": [
      "UndefVarError: PV_mod not defined",
      "",
      "Stacktrace:",
      " [1] top-level scope",
      "   @ In[7]:1",
      " [2] eval",
      "   @ .\\boot.jl:368 [inlined]",
      " [3] include_string(mapexpr::typeof(REPL.softscope), mod::Module, code::String, filename::String)",
      "   @ Base .\\loading.jl:1428"
     ]
    }
   ],
   "source": [
    "i = GetI_vec(PV_mod, V, G, T);"
   ]
  },
  {
   "cell_type": "code",
   "execution_count": 8,
   "id": "5c78d449",
   "metadata": {},
   "outputs": [
    {
     "ename": "LoadError",
     "evalue": "UndefVarError: plot not defined",
     "output_type": "error",
     "traceback": [
      "UndefVarError: plot not defined",
      "",
      "Stacktrace:",
      " [1] top-level scope",
      "   @ In[8]:2",
      " [2] eval",
      "   @ .\\boot.jl:368 [inlined]",
      " [3] include_string(mapexpr::typeof(REPL.softscope), mod::Module, code::String, filename::String)",
      "   @ Base .\\loading.jl:1428"
     ]
    }
   ],
   "source": [
    "labels = [\"200 W/m^2\" \"400 W/m^2\" \"600 W/m^2\" \"800 W/m^2\" \"1000 W/m^2\"];\n",
    "plot(V, i, xlim=(0,30),ylim=(0,5),title=\"PV module - I(V)\", label=labels, xlabel=\"V\", ylabel=\"I\")"
   ]
  },
  {
   "cell_type": "code",
   "execution_count": 9,
   "id": "92ae6056",
   "metadata": {},
   "outputs": [
    {
     "ename": "LoadError",
     "evalue": "UndefVarError: i not defined",
     "output_type": "error",
     "traceback": [
      "UndefVarError: i not defined",
      "",
      "Stacktrace:",
      " [1] top-level scope",
      "   @ In[9]:2",
      " [2] eval",
      "   @ .\\boot.jl:368 [inlined]",
      " [3] include_string(mapexpr::typeof(REPL.softscope), mod::Module, code::String, filename::String)",
      "   @ Base .\\loading.jl:1428"
     ]
    }
   ],
   "source": [
    "V_ = V.*ones(5)';\n",
    "P = i .* V_;"
   ]
  },
  {
   "cell_type": "code",
   "execution_count": 10,
   "id": "53ea48c1",
   "metadata": {},
   "outputs": [
    {
     "ename": "LoadError",
     "evalue": "UndefVarError: plot not defined",
     "output_type": "error",
     "traceback": [
      "UndefVarError: plot not defined",
      "",
      "Stacktrace:",
      " [1] top-level scope",
      "   @ In[10]:1",
      " [2] eval",
      "   @ .\\boot.jl:368 [inlined]",
      " [3] include_string(mapexpr::typeof(REPL.softscope), mod::Module, code::String, filename::String)",
      "   @ Base .\\loading.jl:1428"
     ]
    }
   ],
   "source": [
    "plot(V_, P, xlim=(0,30), ylim=(0,100),title=\"PV module - P(V)\", label=labels, xlabel=\"V\", ylabel=\"P\")"
   ]
  },
  {
   "cell_type": "code",
   "execution_count": 11,
   "id": "63e42528",
   "metadata": {},
   "outputs": [
    {
     "ename": "LoadError",
     "evalue": "UndefVarError: plot not defined",
     "output_type": "error",
     "traceback": [
      "UndefVarError: plot not defined",
      "",
      "Stacktrace:",
      " [1] top-level scope",
      "   @ In[11]:1",
      " [2] eval",
      "   @ .\\boot.jl:368 [inlined]",
      " [3] include_string(mapexpr::typeof(REPL.softscope), mod::Module, code::String, filename::String)",
      "   @ Base .\\loading.jl:1428"
     ]
    }
   ],
   "source": [
    "plot(i, V, xlim=(0,5), ylim=(0,30),title=\"PV module - V(I)\", label=labels, xlabel=\"I\", ylabel=\"V\")"
   ]
  },
  {
   "cell_type": "code",
   "execution_count": 12,
   "id": "99d40fd8",
   "metadata": {},
   "outputs": [
    {
     "ename": "LoadError",
     "evalue": "UndefVarError: plot not defined",
     "output_type": "error",
     "traceback": [
      "UndefVarError: plot not defined",
      "",
      "Stacktrace:",
      " [1] top-level scope",
      "   @ In[12]:1",
      " [2] eval",
      "   @ .\\boot.jl:368 [inlined]",
      " [3] include_string(mapexpr::typeof(REPL.softscope), mod::Module, code::String, filename::String)",
      "   @ Base .\\loading.jl:1428"
     ]
    },
    {
     "name": "stderr",
     "output_type": "stream",
     "text": [
      "WARNING: method definition for similar at C:\\Users\\marmey\\.julia\\packages\\DEDataArrays\\fOEGS\\src\\DEDataArrays.jl:64 declares type variable T but does not use it.\n",
      "WARNING: method definition for promote_u0 at C:\\Users\\marmey\\.julia\\packages\\DiffEqBase\\S7V8q\\src\\forwarddiff.jl:4 declares type variable N but does not use it.\n",
      "WARNING: method definition for EnsembleSolution_adjoint at C:\\Users\\marmey\\.julia\\packages\\DiffEqBase\\S7V8q\\src\\chainrules.jl:93 declares type variable T but does not use it.\n"
     ]
    }
   ],
   "source": [
    "plot(i, P, xlim=(0,5), ylim=(0,80),title=\"PV module - P(I)\", label=labels, xlabel=\"I\", ylabel=\"P\")"
   ]
  },
  {
   "cell_type": "markdown",
   "id": "95d76b97",
   "metadata": {},
   "source": [
    "For the characteristics depending on x, the axis have been swapped here. When plotting with the explicit function, there is a problem with the logarithm, which must not be less than zero. Therefore, the range of values must be very fine tuned. But since we can see in the upper two plots how steep the function is, this is very difficult."
   ]
  },
  {
   "cell_type": "code",
   "execution_count": null,
   "id": "2d2bbe55",
   "metadata": {},
   "outputs": [],
   "source": [
    "# V = GetV(PV_mod, I, 1000, T);"
   ]
  },
  {
   "cell_type": "markdown",
   "id": "179bd039",
   "metadata": {},
   "source": [
    "### Funktion for arrays"
   ]
  },
  {
   "cell_type": "code",
   "execution_count": null,
   "id": "5d7351c0",
   "metadata": {},
   "outputs": [],
   "source": [
    "function GetI_vec(pv_arr::SolarArray, V, G, T)\n",
    "    \n",
    "    self = pv_arr.SolarModule\n",
    "    function I_photo(self::SolarModule, G, T)\n",
    "        dT = self.T_0 + T\n",
    "        I_ph = G./self.G_ref*(self.I_ph_ref + self.mu_sc * dT).* ones(length(V))'\n",
    "        return I_ph\n",
    "    end;\n",
    "\n",
    "    function I_diode(self::SolarModule, V, G, T)\n",
    "        dT = self.T_0 + T\n",
    "        V_T = self.k*dT/self.q\n",
    "        I_d = self.I_0*(exp.(V/(self.ni*self.N_cell*pv_arr.serial*V_T)).-1).*ones(5)'\n",
    "        return I_d\n",
    "    end;\n",
    "    \n",
    "    I = (I_photo(self, G, T)' - I_diode(self, V, G, T)) * pv_arr.parallel\n",
    "    return I\n",
    "end"
   ]
  },
  {
   "cell_type": "code",
   "execution_count": null,
   "id": "d9d598e7",
   "metadata": {},
   "outputs": [],
   "source": [
    "# Not working!\n",
    "\n",
    "function GetV_vec(pv_arr::SolarArray, I, G, T)\n",
    "    \n",
    "    self = pv_arr.SolarModule\n",
    "    function I_photo(self::SolarModule, G, T)\n",
    "        dT = self.T_0 + T\n",
    "        I_ph = G/self.G_ref*(self.I_ph_ref + self.mu_sc * dT)\n",
    "        return I_ph\n",
    "    end;\n",
    "    \n",
    "    I = maximum([0,I])\n",
    "    res = (I_photo(self, G, T)-(I/pv_arr.parallel))\n",
    "    \n",
    "    dT = self.T_0 + T\n",
    "    V_T = self.k*dT/self.q\n",
    "    \n",
    "    if res <= 0\n",
    "        V=0\n",
    "    else\n",
    "        V = self.ni*self.N_cell*pv_arr.serial*V_T*(log((res)/self.I_0)+1)\n",
    "    end\n",
    "    \n",
    "    return V\n",
    "end"
   ]
  },
  {
   "cell_type": "markdown",
   "id": "80824c06",
   "metadata": {},
   "source": [
    "### Select Test point"
   ]
  },
  {
   "attachments": {},
   "cell_type": "markdown",
   "id": "f9785ff1",
   "metadata": {},
   "source": [
    "Here we use the functions that are also part of ElectricGrid.jl to evaluate the characteristic curves at selected points."
   ]
  },
  {
   "cell_type": "code",
   "execution_count": null,
   "id": "d086a181",
   "metadata": {},
   "outputs": [],
   "source": [
    "v_test = 200\n",
    "i_test = GetI(PV_arr, v_test, 1000, 27)"
   ]
  },
  {
   "cell_type": "code",
   "execution_count": null,
   "id": "58bf49ba",
   "metadata": {},
   "outputs": [],
   "source": [
    "i_test2 = 13.951122339665764\n",
    "v_test2 = GetV(PV_arr, i_test2, 1000, 27)"
   ]
  },
  {
   "cell_type": "markdown",
   "id": "765a5157",
   "metadata": {},
   "source": [
    "## Characteristics for PV arrays"
   ]
  },
  {
   "cell_type": "code",
   "execution_count": null,
   "id": "697bdba4",
   "metadata": {},
   "outputs": [],
   "source": [
    "T = 25\n",
    "G = collect(200:200:1000)\n",
    "V = collect(0:1:500);"
   ]
  },
  {
   "cell_type": "code",
   "execution_count": null,
   "id": "a9865c43",
   "metadata": {},
   "outputs": [],
   "source": [
    "i = GetI_vec(PV_arr, V, G, T);"
   ]
  },
  {
   "cell_type": "code",
   "execution_count": null,
   "id": "23c32ede",
   "metadata": {},
   "outputs": [],
   "source": [
    "plot(V, i, xlim=(0,350),ylim=(0,20),title=\"PV array - I(V)\", label=labels, xlabel=\"V\", ylabel=\"I\")\n",
    "scatter!([v_test], [i_test], color=\"blue\", markershape=:star5, label=\"Test\")"
   ]
  },
  {
   "cell_type": "code",
   "execution_count": null,
   "id": "4a1d5aa0",
   "metadata": {},
   "outputs": [],
   "source": [
    "V_ = V.*ones(5)';\n",
    "P = i .* V_;"
   ]
  },
  {
   "cell_type": "code",
   "execution_count": null,
   "id": "88e7b356",
   "metadata": {
    "scrolled": true
   },
   "outputs": [],
   "source": [
    "plot(V_, P, xlim=(0,300), ylim=(0,3500),title=\"PV array - P(V)\", label=labels, xlabel=\"V\", ylabel=\"P\")"
   ]
  },
  {
   "cell_type": "code",
   "execution_count": null,
   "id": "24ca17d3",
   "metadata": {
    "scrolled": false
   },
   "outputs": [],
   "source": [
    "plot(i, V_, xlim=(0,30), ylim=(0,300),title=\"PV array - V(I)\", label=labels, xlabel=\"I\", ylabel=\"V\")\n",
    "scatter!([i_test2],[v_test2], color=\"blue\", markershape=:star5, label=\"Test\")"
   ]
  },
  {
   "cell_type": "markdown",
   "id": "0364b14f",
   "metadata": {},
   "source": [
    "Here you can see that the test point is not exactly on the line. This is due to the numerical inaccuracy. Since we are on the steep part, small deviations lead to larger shifts along the y-axis."
   ]
  },
  {
   "cell_type": "code",
   "execution_count": null,
   "id": "1173ae24",
   "metadata": {},
   "outputs": [],
   "source": [
    "plot(i, P, xlim=(0,20), ylim=(0,3500),title=\"PV array - V(I)\", label=labels, xlabel=\"I\", ylabel=\"P\")"
   ]
  },
  {
   "cell_type": "markdown",
   "id": "a9b8fc70",
   "metadata": {},
   "source": [
    "## With R_s and R_p"
   ]
  },
  {
   "cell_type": "markdown",
   "id": "71f644b7",
   "metadata": {},
   "source": [
    "Here is the code for the iterative determination of the characteristic curve via newton raphson. The parallel and series resistance of the PV module are now taken into account."
   ]
  },
  {
   "cell_type": "code",
   "execution_count": null,
   "id": "505aa908",
   "metadata": {},
   "outputs": [],
   "source": [
    "dT = 273 + T\n",
    "V_T = k*dT/q   \n",
    "I_ph = G./G_ref*(I_ph_ref + mu_sc * dT)*ones(length(V))';\n",
    "I_d = I_0*(exp.(V/(ni*N_cell*V_T)).-1).*ones(5)';\n",
    "\n",
    "I_init = 1 .*ones(5)\n",
    "\n",
    "R_s = 0.45                 # \n",
    "R_p = 310.0248             # \n",
    "        \n",
    "\n",
    "function GetI(G, V)\n",
    "    \n",
    "    I_ph = ones(length(V)) * G/G_ref*(I_ph_ref + mu_sc * dT);\n",
    "    delta = 0.00000000001\n",
    "    \n",
    "    function I_d(V, I)        \n",
    "        a = ni*N_cell*V_T\n",
    "        R_s = 0.45 \n",
    "        return I_0*(exp.(V.+R_s.*I/(a)).-1)\n",
    "    end\n",
    "\n",
    "    function I_p(V, I)\n",
    "        R_p = 310.0248\n",
    "        R_s = 0.45 \n",
    "        return V.+R_s.*I/R_p\n",
    "    end\n",
    "    \n",
    "    function f_dot(V,I)\n",
    "        a = ni*N_cell*V_T\n",
    "        R_p = 310.0248\n",
    "        R_s = 0.45 \n",
    "        return -I_0*1/a*exp.(V.+R_s.*I/(a)).-1/R_p\n",
    "    end\n",
    "    \n",
    "    I = 3*ones(length(V))\n",
    "    I_= zeros(length(V))\n",
    "    \n",
    "    while true\n",
    "        \n",
    "        I_ = I - (I_ph - I_d(V,I) - I_p(V,I))./f_dot(V,I)\n",
    "        \n",
    "        check = sum(broadcast(abs, (I_-I)) .< delta)\n",
    "        if check == length(V)\n",
    "            break\n",
    "        end\n",
    "        I = I_\n",
    "    end\n",
    "            \n",
    "    return I_\n",
    "end\n",
    "    "
   ]
  }
 ],
 "metadata": {
  "kernelspec": {
   "display_name": "Julia 1.8.3",
   "language": "julia",
   "name": "julia-1.8"
  },
  "language_info": {
   "file_extension": ".jl",
   "mimetype": "application/julia",
   "name": "julia",
   "version": "1.8.3"
  }
 },
 "nbformat": 4,
 "nbformat_minor": 5
}
