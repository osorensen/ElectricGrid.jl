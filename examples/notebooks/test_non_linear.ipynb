{
 "cells": [
  {
   "attachments": {},
   "cell_type": "markdown",
   "metadata": {},
   "source": [
    "Da hab ich mal die Rechnung geschrieben und zum Teil geTeXt, ging irgendwie übersichtlicher. Hoffentlich blickst du da durch."
   ]
  },
  {
   "attachments": {},
   "cell_type": "markdown",
   "metadata": {},
   "source": [
    "\n",
    "---\n",
    "\n",
    "\\begin{align*}\n",
    "    0 &= -u_{C_{K} } - L_{S} \\cdot \\dot{i}_{L_{S} } - R_{S} \\cdot i_{L_{S} } +U_{i} \\\\\n",
    "    0 &= -u_{c_{K_{L} } } - L_{K} \\cdot \\dot{i}_{L_{K} } -R_{K} \\cdot i_{L_{K} } +u_{C_{K} } \\\\\n",
    "    0 &= -L_{L} \\cdot \\dot{i}_{L_{L} } +u_{C_{K_{L} } } \\\\\n",
    "    0 &= i_{L_{S} } -C_{K} \\cdot \\dot{u}_{_{C_{K} } } -i_{L_{K} } \\\\\n",
    "    0 &= i_{L_{K} } -C_{K_{L} } \\cdot \\dot{u}_{C_{K_{L} } } -\\frac{u_{C_{K_{L} } }}{R_{L} } -i_{L_{L} }   \n",
    "\\end{align*}\n",
    "---\n",
    "\n",
    "\\begin{align*}\n",
    "    \\dot{i}_{L_{S} } &= \\frac{-u_{C_{K} } - R_{S} \\cdot i_{L_{S} } +U_{i}}{L_{S} }  \\\\\n",
    "    \\dot{i}_{L_{K} } &= \\frac{-u_{c_{K_{L} } } -R_{K} \\cdot i_{L_{K} } +u_{C_{K} }}{L_{K} }  \\\\\n",
    "    \\dot{i}_{L_{L} }&= \\frac{u_{C_{K_{L} } }}{L_{L} }  \\\\\n",
    "    \\dot{u}_{_{C_{K} } } &= \\frac{i_{L_{S} }  -i_{L_{K} }}{C_{K} }  \\\\\n",
    "    \\dot{u}_{C_{K_{L} } } &= \\frac{i_{L_{K} }  -\\frac{u_{C_{K_{L} } }}{R_{L} } -i_{L_{L} }}{C_{K_{L} } }    \n",
    "\\end{align*}\n",
    "---\n",
    "\n",
    "\\begin{align*}\n",
    "    \\dot{i}_{L_{S} } &= -\\frac{R_{S} }{L_{S} } i_{L_{S } } -\\frac{1}{_{L_{S} }}u_{C_{K} } +0+0 +0 +\\frac{U_{i}}{L_{S} }\\\\\n",
    "    \\dot{u}_{_{C_{K} } } &= \\frac{1}{C_{K} } i_{L_{S} } +0-\\frac{1}{C_{K} } i_{L_{K} } +0+0\\\\\n",
    "    \\dot{i}_{L_{K} } &= 0+\\frac{1}{L_{K} } u_{C_{K} } - \\frac{R_{K} }{L_{K} } i_{L_{K} } +0 + 0\\\\\n",
    "    \\dot{u}_{C_{K_{L} } } &= 0+0+\\frac{1}{C_{K_{L} } } i_{L_{K} }-\\frac{1}{R_{L} \\cdot C_{K_{L} } } u_{C_{K_{L} } } -\\frac{1}{C_{K_{L} } } i_{L_{L} }\\\\\n",
    "    \\dot{i}_{L_{L} }&= 0+0+0+\\frac{u_{C_{K_{L} } }}{L_{L} }+0\n",
    "\\end{align*}\n",
    "---\n",
    "\n",
    "$$\n",
    "\\begin{pmatrix}\n",
    "\\dot{i_{L_{S} } }\\\\\n",
    "\\dot{u_{C_{K} } }\\\\\n",
    "\\dot{i_{L_{K} } }\\\\\n",
    "\\dot{u_{C_{K_{L} } } }\\\\\n",
    "\\dot{i_{L_{L} } }\\\\\n",
    "\\end{pmatrix}=\n",
    "\\begin{pmatrix}\n",
    "-\\frac{R_{S} }{L_{S} } &-\\frac{1}{_{L_{S} }}&0&0&0\\\\\n",
    "\\frac{1}{C_{K} } &0&-\\frac{1}{C_{K} } &0&0\\\\\n",
    "0 &\\frac{1}{L_{K} }&- \\frac{R_{K} }{L_{K} } &0  & 0\\\\\n",
    "0&0&\\frac{1}{C_{K_{L} } } &-\\frac{1}{R_{L} \\cdot C_{K_{L} } }&-\\frac{1}{C_{K_{L} } }\\\\\n",
    "0&0&0&\\frac{1}{L_{L} }&0\n",
    "\\end{pmatrix} \\cdot \n",
    "\\begin{pmatrix}\n",
    "{i_{L_{S} } }\\\\\n",
    "{u_{C_{K} } }\\\\\n",
    "{i_{L_{K} } }\\\\\n",
    "{u_{C_{K_{L} } } }\\\\\n",
    "{i_{L_{L} } }\\\\\n",
    "\\end{pmatrix}+\n",
    "\\begin{pmatrix}\n",
    "    \\frac{U_{i}}{L_{S} }\\\\\n",
    "    0\\\\\n",
    "    0\\\\\n",
    "    0\\\\\n",
    "    0\n",
    "\\end{pmatrix}\n",
    "$$"
   ]
  },
  {
   "cell_type": "code",
   "execution_count": 1,
   "metadata": {},
   "outputs": [],
   "source": [
    "using DifferentialEquations\n",
    "using PlotlyJS"
   ]
  },
  {
   "cell_type": "code",
   "execution_count": 2,
   "metadata": {},
   "outputs": [
    {
     "data": {
      "text/plain": [
       "f (generic function with 1 method)"
      ]
     },
     "metadata": {},
     "output_type": "display_data"
    }
   ],
   "source": [
    "R_S = 1.1e-3\n",
    "R_K = 1e-3\n",
    "R_L = 100\n",
    "L_S = 70e-6\n",
    "L_K = 1e-4\n",
    "L_L = 1e-2\n",
    "C_K = 1e-4/2\n",
    "C_L = 1e-2\n",
    "C_KL = C_K+C_L\n",
    "U_i = 10\n",
    "\n",
    "A = [-R_S/L_S 0 0 -1/L_S 0\n",
    "    0 -R_K/L_K 0 1/L_K 0\n",
    "    0 0 0 0 1/L_L\n",
    "    1/C_K -1/C_K 0 0 0\n",
    "    0 1/C_KL -1/C_KL 0 -1/(R_L*C_KL)]\n",
    "b = [U_i/L_S;0;0;0;0]\n",
    "\n",
    "function f(dx, x, p, t)\n",
    "    dx.= A*x+b\n",
    "end"
   ]
  },
  {
   "cell_type": "code",
   "execution_count": 3,
   "metadata": {},
   "outputs": [
    {
     "name": "stderr",
     "output_type": "stream",
     "text": [
      "┌ Warning: Backwards compatability support of the new return codes to Symbols will be deprecated with the Julia v1.9 release. Please see https://docs.sciml.ai/SciMLBase/stable/interfaces/Solutions/#retcodes for more information\n",
      "└ @ SciMLBase /Users/benediktbrueck/.julia/packages/SciMLBase/QqtZA/src/retcodes.jl:355\n"
     ]
    }
   ],
   "source": [
    "x0 = [0,0,0,0,0]\n",
    "tspan = (0.0, 10.0)\n",
    "\n",
    "prob = ODEProblem(f, x0, tspan)\n",
    "sol = solve(prob, Tsit5(),reltol=1e-8, abstol=1e-8);"
   ]
  },
  {
   "cell_type": "code",
   "execution_count": null,
   "metadata": {},
   "outputs": [],
   "source": [
    "x = sol.u\n",
    "x_plot(j) = [x[i][j] for i = 1:length(x)]\n",
    "t = sol.t\n",
    "a = [\"i_LS\",\"i_LK\",\"i_LL\",\"u_CK\",\"u_CKL\"]\n",
    "trace(i) = scatter(x=t, y=x_plot(i), mode=\"lines\",name = \"$(a[i])\")\n",
    "\n",
    "layout = Layout(xaxis_title=\"time\", yaxis_title=\"Amplitude\")\n",
    "\n",
    "plot([trace(1),trace(2),trace(3),trace(4),trace(5)], layout)"
   ]
  }
 ],
 "metadata": {
  "kernelspec": {
   "display_name": "Julia 1.8.3",
   "language": "julia",
   "name": "julia-1.8"
  },
  "language_info": {
   "file_extension": ".jl",
   "mimetype": "application/julia",
   "name": "julia",
   "version": "1.8.3"
  },
  "orig_nbformat": 4
 },
 "nbformat": 4,
 "nbformat_minor": 2
}
