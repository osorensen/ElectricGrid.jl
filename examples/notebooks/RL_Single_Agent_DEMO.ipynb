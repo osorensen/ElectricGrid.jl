{
 "cells": [
  {
   "attachments": {},
   "cell_type": "markdown",
   "id": "2888dffe",
   "metadata": {},
   "source": [
    "## Train an RL agent\n",
    "This notebook will focus the following topics:\n",
    "\n",
    "- ### Introduction to RL with ElectricGrid.jl\n",
    "- ### Define featurize function\n",
    "- ### Define reward function\n",
    "- ### Training a single RL agent\n",
    "\n",
    "## Introduction to RL with ElectricGrid.jl\n",
    "\n",
    "In the following, a reinforcement learning (RL) agent is trained to control the current flowing through an inductor.\n",
    "It will be shown how the agent can learn and be applied to an simple electrical power grid simulated with de `ElectricGrid` package.\n",
    "\n",
    "The use case is shown in the figure below.\n",
    "\n",
    "![](figures/RL_single_agent.png \"\")\n",
    "\n",
    "First we define the environment with the configuration shown in the figure. \n",
    "It consists of a single phase electrical power grid with 1 source and 1 load connected via a cable.\n",
    "For more information on how to setup an environment see `Env_Create_DEMO.ipynb`.\n",
    "\n",
    "The parameter dict is used for configuration.\n",
    "Within the source dict, two imporant entires will have to be defined:\n",
    " - `\"control_type\"`: Defines whether the source is controlled applying a classic controller (`\"classic\"`) or using an RL agent (`\"RL\"`).\n",
    " - `\"mode\"`: Defines the control mode of controller/agent:\n",
    "     - `\"classic\"`: Different predefined classic control modes can be chosen to apply a specific control behaviour (e.g., droop, VSG, step response,...). For more information see Classic_Controllers-notebooks or UserGuide.\n",
    "     - `\"RL\"`: An agent name, which is used later on to link the defined agent to this source.\n",
    "     \n",
    "Here, `RL` is selected as `control_type` and the name `my_ddpg` as the `mode`. \n"
   ]
  },
  {
   "cell_type": "code",
   "execution_count": 1,
   "id": "08e01153",
   "metadata": {},
   "outputs": [
    {
     "name": "stderr",
     "output_type": "stream",
     "text": [
      "\u001b[33m\u001b[1m┌ \u001b[22m\u001b[39m\u001b[33m\u001b[1mWarning: \u001b[22m\u001b[39mThe call to compilecache failed to create a usable precompiled cache file for FreeTypeAbstraction [663a7486-cb36-511b-a19d-713bb74d65c9]\n",
      "\u001b[33m\u001b[1m│ \u001b[22m\u001b[39m  exception = Required dependency GeometryBasics [5c1252a2-5f33-56bf-86c9-59e7332b4326] failed to load from a cache file.\n",
      "\u001b[33m\u001b[1m└ \u001b[22m\u001b[39m\u001b[90m@ Base loading.jl:1349\u001b[39m\n"
     ]
    },
    {
     "name": "stderr",
     "output_type": "stream",
     "text": [
      "\u001b[33m\u001b[1m┌ \u001b[22m\u001b[39m\u001b[33m\u001b[1mWarning: \u001b[22m\u001b[39mThe call to compilecache failed to create a usable precompiled cache file for UnicodePlots [b8865327-cd53-5732-bb35-84acbb429228]\n",
      "\u001b[33m\u001b[1m│ \u001b[22m\u001b[39m  exception = Wrong number of entries in module list.\n",
      "\u001b[33m\u001b[1m└ \u001b[22m\u001b[39m\u001b[90m@ Base loading.jl:1349\u001b[39m\n"
     ]
    },
    {
     "name": "stderr",
     "output_type": "stream",
     "text": [
      "\u001b[33m\u001b[1m┌ \u001b[22m\u001b[39m\u001b[33m\u001b[1mWarning: \u001b[22m\u001b[39mModule ReinforcementLearningCore with build ID 56249747369753 is missing from the cache.\n",
      "\u001b[33m\u001b[1m│ \u001b[22m\u001b[39mThis may mean ReinforcementLearningCore [de1b191a-4ae0-4afa-a27b-92d07f46b2d6] does not support precompilation but is imported by a module that does.\n",
      "\u001b[33m\u001b[1m└ \u001b[22m\u001b[39m\u001b[90m@ Base loading.jl:1325\u001b[39m\n"
     ]
    },
    {
     "name": "stderr",
     "output_type": "stream",
     "text": [
      "\u001b[33m\u001b[1m┌ \u001b[22m\u001b[39m\u001b[33m\u001b[1mWarning: \u001b[22m\u001b[39mThe call to compilecache failed to create a usable precompiled cache file for ReinforcementLearning [158674fc-8238-5cab-b5ba-03dfc80d1318]\n",
      "\u001b[33m\u001b[1m│ \u001b[22m\u001b[39m  exception = Required dependency UnicodePlots [b8865327-cd53-5732-bb35-84acbb429228] failed to load from a cache file.\n",
      "\u001b[33m\u001b[1m└ \u001b[22m\u001b[39m\u001b[90m@ Base loading.jl:1349\u001b[39m\n"
     ]
    }
   ],
   "source": [
    "using ElectricGrid"
   ]
  },
  {
   "cell_type": "code",
   "execution_count": 2,
   "id": "a8f3322d",
   "metadata": {},
   "outputs": [],
   "source": [
    "# calculate passive load for some setting / power rating\n",
    "R_load, L_load, X, Z = ParallelLoadImpedance(100e3, 1, 230)\n",
    "\n",
    "# define grid using CM\n",
    "CM = [0. 1.\n",
    "    -1. 0.]\n",
    "\n",
    "# Set parameters according to graphic above\n",
    "parameters = Dict{Any, Any}(\n",
    "    \"source\" => Any[\n",
    "                    Dict{Any, Any}(\"pwr\" => 200e3, \"control_type\" => \"RL\", \"mode\" => \"my_ddpg\", \"fltr\" => \"L\"),\n",
    "                    ],\n",
    "    \"load\"   => Any[\n",
    "                    Dict{Any, Any}(\"impedance\" => \"R\", \"R\" => R_load, \"v_limit\"=>1e4, \"i_limit\"=>1e4),\n",
    "                    ],\n",
    "    \"grid\" => Dict{Any, Any}(\"phase\" => 1)\n",
    ");"
   ]
  },
  {
   "attachments": {},
   "cell_type": "markdown",
   "id": "f039119e",
   "metadata": {},
   "source": [
    "In the following, the agent `my_ddpg` should learn to control the current of the source. Therefore, we define a reference value. The goal of the agent is to reach and track this reference signal. Using the `reward()` function, the agent receives feedback on the current state and the selected action.\n",
    "\n",
    "Therefore, the reference value has to be defined. \n",
    "Here, we will use a constant value to keep the example simple.\n",
    "But since the `reference(t)` function takes the simulation time as argument, more complex, time-dependent signals could be defined.\n",
    "\n",
    "The reference for this example is to output $i_\\mathrm{L1} = 1\\,\\mathrm{A}$:"
   ]
  },
  {
   "cell_type": "code",
   "execution_count": 3,
   "id": "2bf3c429",
   "metadata": {},
   "outputs": [
    {
     "data": {
      "text/plain": [
       "reference (generic function with 1 method)"
      ]
     },
     "metadata": {},
     "output_type": "display_data"
    }
   ],
   "source": [
    "function reference(t)\n",
    "    return 1\n",
    "end"
   ]
  },
  {
   "attachments": {},
   "cell_type": "markdown",
   "id": "55f9ce89",
   "metadata": {},
   "source": [
    "## Define featurize function\n",
    "\n",
    "Afterwards the `featurize()` function, which gives the user the opportunity to modify the measured states before they get passed to the agent, is defined.\n",
    "\n",
    "It takes three arguments:\n",
    "- `state` contains all the state values that correspond to the source controlled by agent,\n",
    "- `env` references the environment,\n",
    "- `name` contains the key of the agent.\n",
    "\n",
    "In the following, the signal generated by the `reference` function is added to the state provided to the agent `my_ddpg`. This will help the agent to learn because later we will define a reward that has maximum value if the measured current fits the reference value.\n",
    "The reference value has to be normalized in an appropirate way that it fits to the range of the normalized states.\n",
    "\n",
    "Additionally, more signals could be added here to enhance the learning process.\n",
    "\n",
    "As stated before, `state` already contains all state values of the source the agent with key `name` should control.\n",
    "However, the environment maintains a lot more states than that. Through `featurize` we could expose them to the agent but we refrain from that here since we want to simulate a scenario where the source the agent controls is far away (e.g. 1km) from the load its supplying. \n",
    "In cases like this it's common that the agent has no knowlegde about states of the load since no communication and measurements exchange between source and load is assumed.\n",
    "\n",
    "In anonther example, the electrical power grid consits of multiple sources and loads. The other sources are controlled by other agents or classic controllers. In that case, typically every controller/agent has knowlegde of the states of the source it controls but not about the states another agent/controller controls.\n",
    "Handing the corresponding source-depending states to the correct controllers/agents is handeled internally based on the `keys` (above: `my_ddpg`- for more information see `MultiController` and `inner_featurize` of the `env`)."
   ]
  },
  {
   "cell_type": "code",
   "execution_count": 4,
   "id": "23420f15",
   "metadata": {},
   "outputs": [
    {
     "data": {
      "text/plain": [
       "#9 (generic function with 1 method)"
      ]
     },
     "metadata": {},
     "output_type": "display_data"
    }
   ],
   "source": [
    "featurize_ddpg = function(state, env, name)\n",
    "    if name == \"my_ddpg\"\n",
    "        norm_ref = env.nc.parameters[\"source\"][1][\"i_limit\"]\n",
    "        state = vcat(state, reference(env.t)/norm_ref)\n",
    "    end\n",
    "end"
   ]
  },
  {
   "cell_type": "markdown",
   "id": "ba45180b",
   "metadata": {},
   "source": [
    "## Define reward function\n",
    "\n",
    "The `reward()` function provides a feedback to the agent on how good the chosen action was.\n",
    "First, the state to be controlled is taken from the current environment state values.\n",
    "Since the states are normalized by the limits the electrical components can handle, a value greater than `1` means that the state limit is exceeded typically leading to a system crash.\n",
    "Therefore, first it is checked if the measured state is greater than `1`. In that case a punishment is returned which, here, is chosen to be `r = -1`.\n",
    "\n",
    "In case the controlled state is within the valid state space, the reward is caculated based on the error between the wanted reference value and the measured state value. \n",
    "If these values are the same, meaning the agent perfectly fullfills the control task, a reward of `r = 1` is returned to the agent. ( -> r $\\in$ [-1, 1]).\n",
    "If the measured value differs from the reference, the error - based on the root-mean square error (RMSE) in this example - is substracted from the maximal reward: `r = 1 - RMSE`:\n",
    "\n",
    "$r = 1 - \\sqrt{\\frac{|i_\\mathrm{L,ref} - i_\\mathrm{L1}|}{2}}$\n",
    "\n",
    "To keep the reward in the wanted range, the current difference is devided by 2. "
   ]
  },
  {
   "cell_type": "code",
   "execution_count": 5,
   "id": "e5137a7d",
   "metadata": {},
   "outputs": [
    {
     "data": {
      "text/plain": [
       "reward_function (generic function with 2 methods)"
      ]
     },
     "metadata": {},
     "output_type": "display_data"
    }
   ],
   "source": [
    "function reward_function(env, name = nothing)\n",
    "    if name == \"my_ddpg\"\n",
    "        index_1 = findfirst(x -> x == \"source1_i_L1\", env.state_ids)\n",
    "        state_to_control = env.state[index_1]\n",
    "\n",
    "        if any(abs.(state_to_control).>1)\n",
    "            return -1\n",
    "        else\n",
    "\n",
    "            refs = reference(env.t)\n",
    "            norm_ref = env.nc.parameters[\"source\"][1][\"i_limit\"]          \n",
    "            r = 1-((abs.(refs/norm_ref - state_to_control)/2).^0.5)\n",
    "            return r \n",
    "        end\n",
    "    end\n",
    "end"
   ]
  },
  {
   "attachments": {},
   "cell_type": "markdown",
   "id": "70bb0752",
   "metadata": {},
   "source": [
    "## Training a single RL agent\n",
    "\n",
    "\n",
    "Then, the defined parameters, featurize and reward functions are used to create an environment consisting of the electrical power grid. To keep the first learning example simple, the action given to the env is internally not delayed (as it would be in a real-world digitally controlled system). "
   ]
  },
  {
   "cell_type": "code",
   "execution_count": 6,
   "id": "11d1d66d",
   "metadata": {
    "scrolled": true
   },
   "outputs": [
    {
     "name": "stdout",
     "output_type": "stream",
     "text": [
      "\n",
      "******************************************************************************\n",
      "This program contains Ipopt, a library for large-scale nonlinear optimization.\n",
      " Ipopt is released as open source code under the Eclipse Public License (EPL).\n",
      "         For more information visit https://github.com/coin-or/Ipopt\n",
      "******************************************************************************\n",
      "\n"
     ]
    }
   ],
   "source": [
    "env = ElectricGridEnv(\n",
    "    CM = CM, \n",
    "    parameters = parameters, \n",
    "    t_end = 0.025, \n",
    "    featurize = featurize_ddpg, \n",
    "    reward_function = reward_function, \n",
    "    action_delay = 0);"
   ]
  },
  {
   "attachments": {},
   "cell_type": "markdown",
   "id": "475ded2d",
   "metadata": {},
   "source": [
    "In this example, a `Deep Deterministic Policy Gradient` agent (compare the corresponding [paper](https://arxiv.org/abs/1509.02971), or this nice [introdution](https://spinningup.openai.com/en/latest/algorithms/ddpg.html)) is chosen which can learn a control task on continous state and action spaces.\n",
    "It is configured using the `CreateAgentDdpg()` function:\n",
    "\n"
   ]
  },
  {
   "cell_type": "code",
   "execution_count": 7,
   "id": "1089d694",
   "metadata": {},
   "outputs": [],
   "source": [
    "agent = CreateAgentDdpg(na = length(env.agent_dict[\"my_ddpg\"][\"action_ids\"]),\n",
    "                          ns = length(state(env, \"my_ddpg\")),\n",
    "                          use_gpu = false);"
   ]
  },
  {
   "attachments": {},
   "cell_type": "markdown",
   "id": "8f0fbaa2",
   "metadata": {},
   "source": [
    "The environment stores the indices (states and actions) to which the agent has access based on the definition in the parameter dict.\n",
    "This can be found in the  `agent_dict` using the defined agent name.\n",
    "\n",
    "`env.agent_dict[chosen_name]` (chosen name, here, `my_ddpg`):\n",
    "- `\"source_number\"`: ID/number of the source the agent with this key controls\n",
    "- `\"mode\"`: Name of the agent\n",
    "- `\"action_ids\"`: List of strings with the action ids the agent controls/belong to the `\"source_number\"`\n",
    "- `\"state_ids\"`: List of strings with the state ids the agent controls/belong to the `\"source_number\"`\n",
    "\n",
    "After defining the agent, the control side of the experiment is configured in the `SetupAgents()` method.\n",
    "The function returns `controller` which is an instance of the `MultiController` that contains the different agents and classic controllers and maps their actions to the corresponding sources.\n"
   ]
  },
  {
   "cell_type": "code",
   "execution_count": 8,
   "id": "4996e680",
   "metadata": {},
   "outputs": [
    {
     "name": "stderr",
     "output_type": "stream",
     "text": [
      "WARNING: both Losses and NNlib export \"ctc_loss\"; uses of it in module Flux must be qualified\n"
     ]
    }
   ],
   "source": [
    "my_custom_agents = Dict(\"my_ddpg\" => agent)\n",
    "\n",
    "controller = SetupAgents(env, my_custom_agents);"
   ]
  },
  {
   "attachments": {},
   "cell_type": "markdown",
   "id": "6cab250b",
   "metadata": {},
   "source": [
    "To use the predefined agent in the experiment, the `SetupAgents()` takes a dictonary as secound input. Like shown above, the dictonary `my_custom_agents` links the predefined `agent` to the chosen agent name (`\"mode\"`) in the parameter dict.\n",
    "\n",
    "Internally, the `SetupAgents()` function extends the `agent` by a name to a [named policy](https://juliareinforcementlearning.org/docs/rlcore/#ReinforcementLearningCore.NamedPolicy ).\n",
    "Using this named policy the [MultiController](https://juliareinforcementlearning.org/docs/rlzoo/#ReinforcementLearningZoo.MADDPGManager) enables to call the different agents/controllers via name during training and application.\n",
    "This is used for example in the `reward()` function to return a specific reward to the `my_ddpg` agent (`if name == \"my_ddpg\" ...`)\n",
    "Later, that functionality helps to give different rewards to different agents seperated by name.\n",
    "\n",
    "\n",
    "\n",
    "Now, the agent can be trained for 20 episodes using the `Learn()`:"
   ]
  },
  {
   "cell_type": "code",
   "execution_count": 9,
   "id": "905ff2f0",
   "metadata": {},
   "outputs": [
    {
     "name": "stderr",
     "output_type": "stream",
     "text": [
      "\r\u001b[32mProgress:   1%|▍                                        |  ETA: 1:40:00\u001b[39m\u001b[K"
     ]
    },
    {
     "name": "stderr",
     "output_type": "stream",
     "text": [
      "\r\u001b[32mProgress:  41%|████████████████▊                        |  ETA: 0:01:16\u001b[39m\u001b[K"
     ]
    },
    {
     "name": "stderr",
     "output_type": "stream",
     "text": [
      "\r\u001b[32mProgress:  53%|█████████████████████▊                   |  ETA: 0:00:47\u001b[39m\u001b[K"
     ]
    },
    {
     "name": "stderr",
     "output_type": "stream",
     "text": [
      "\r\u001b[32mProgress:  65%|██████████████████████████▋              |  ETA: 0:00:29\u001b[39m\u001b[K"
     ]
    },
    {
     "name": "stderr",
     "output_type": "stream",
     "text": [
      "\r\u001b[32mProgress:  76%|███████████████████████████████▍         |  ETA: 0:00:17\u001b[39m\u001b[K"
     ]
    },
    {
     "name": "stderr",
     "output_type": "stream",
     "text": [
      "\r\u001b[32mProgress:  88%|████████████████████████████████████▏    |  ETA: 0:00:08\u001b[39m\u001b[K"
     ]
    },
    {
     "name": "stderr",
     "output_type": "stream",
     "text": [
      "\r\u001b[32mProgress: 100%|████████████████████████████████████████▉|  ETA: 0:00:00\u001b[39m\u001b[K"
     ]
    },
    {
     "name": "stderr",
     "output_type": "stream",
     "text": [
      "\r\u001b[32mProgress: 100%|█████████████████████████████████████████| Time: 0:00:57\u001b[39m\u001b[K\n"
     ]
    },
    {
     "data": {
      "text/plain": [
       "                 ⠀⠀⠀⠀⠀⠀⠀⠀⠀\u001b[97;1mTotal reward per episode\u001b[0m⠀⠀⠀⠀⠀⠀⠀⠀⠀        \n",
       "                 \u001b[38;5;8m┌────────────────────────────────────────┐\u001b[0m        \n",
       "         \u001b[38;5;8m240.787\u001b[0m \u001b[38;5;8m│\u001b[0m⠀⠀⠀⠀⠀\u001b[38;5;2m⣤\u001b[0m\u001b[38;5;2m⠴\u001b[0m\u001b[38;5;2m⠲\u001b[0m\u001b[38;5;2m⠖\u001b[0m\u001b[38;5;2m⠞\u001b[0m\u001b[38;5;2m⠛\u001b[0m\u001b[38;5;2m⠒\u001b[0m\u001b[38;5;2m⠚\u001b[0m\u001b[38;5;2m⠛\u001b[0m\u001b[38;5;2m⠛\u001b[0m\u001b[38;5;2m⠋\u001b[0m\u001b[38;5;2m⠉\u001b[0m\u001b[38;5;2m⠉\u001b[0m\u001b[38;5;2m⠉\u001b[0m\u001b[38;5;2m⠉\u001b[0m\u001b[38;5;2m⠉\u001b[0m\u001b[38;5;2m⠉\u001b[0m\u001b[38;5;2m⠉\u001b[0m\u001b[38;5;2m⠉\u001b[0m\u001b[38;5;2m⠉\u001b[0m\u001b[38;5;2m⠉\u001b[0m\u001b[38;5;2m⠋\u001b[0m\u001b[38;5;2m⠉\u001b[0m\u001b[38;5;2m⠉\u001b[0m\u001b[38;5;2m⠉\u001b[0m\u001b[38;5;2m⠉\u001b[0m\u001b[38;5;2m⠉\u001b[0m\u001b[38;5;2m⠉\u001b[0m\u001b[38;5;2m⠁\u001b[0m⠀⠀⠀⠀⠀⠀\u001b[38;5;8m│\u001b[0m \u001b[38;5;2mmy_ddpg\u001b[0m\n",
       "                \u001b[38;5;8m\u001b[0m \u001b[38;5;8m│\u001b[0m\u001b[38;5;2m⡇\u001b[0m⠀⠀⠀⠀\u001b[38;5;2m⡇\u001b[0m⠀⠀⠀⠀⠀⠀⠀⠀⠀⠀⠀⠀⠀⠀⠀⠀⠀⠀⠀⠀⠀⠀⠀⠀⠀⠀⠀⠀⠀⠀⠀⠀⠀⠀\u001b[38;5;8m│\u001b[0m \u001b[38;5;8m\u001b[0m       \n",
       "                \u001b[38;5;8m\u001b[0m \u001b[38;5;8m│\u001b[0m\u001b[38;5;2m⡇\u001b[0m⠀⠀⠀\u001b[38;5;2m⢸\u001b[0m\u001b[38;5;2m⠁\u001b[0m⠀⠀⠀⠀⠀⠀⠀⠀⠀⠀⠀⠀⠀⠀⠀⠀⠀⠀⠀⠀⠀⠀⠀⠀⠀⠀⠀⠀⠀⠀⠀⠀⠀⠀\u001b[38;5;8m│\u001b[0m \u001b[38;5;8m\u001b[0m       \n",
       "                \u001b[38;5;8m\u001b[0m \u001b[38;5;8m│\u001b[0m\u001b[38;5;2m⡇\u001b[0m⠀⠀⠀\u001b[38;5;2m⢸\u001b[0m⠀⠀⠀⠀⠀⠀⠀⠀⠀⠀⠀⠀⠀⠀⠀⠀⠀⠀⠀⠀⠀⠀⠀⠀⠀⠀⠀⠀⠀⠀⠀⠀⠀⠀⠀\u001b[38;5;8m│\u001b[0m \u001b[38;5;8m\u001b[0m       \n",
       "                \u001b[38;5;8m\u001b[0m \u001b[38;5;8m│\u001b[0m\u001b[38;5;2m⡇\u001b[0m⠀⠀⠀\u001b[38;5;2m⢸\u001b[0m⠀⠀⠀⠀⠀⠀⠀⠀⠀⠀⠀⠀⠀⠀⠀⠀⠀⠀⠀⠀⠀⠀⠀⠀⠀⠀⠀⠀⠀⠀⠀⠀⠀⠀⠀\u001b[38;5;8m│\u001b[0m \u001b[38;5;8m\u001b[0m       \n",
       "                \u001b[38;5;8m\u001b[0m \u001b[38;5;8m│\u001b[0m\u001b[38;5;2m⡇\u001b[0m⠀⠀⠀\u001b[38;5;2m⢸\u001b[0m⠀⠀⠀⠀⠀⠀⠀⠀⠀⠀⠀⠀⠀⠀⠀⠀⠀⠀⠀⠀⠀⠀⠀⠀⠀⠀⠀⠀⠀⠀⠀⠀⠀⠀⠀\u001b[38;5;8m│\u001b[0m \u001b[38;5;8m\u001b[0m       \n",
       "                \u001b[38;5;8m\u001b[0m \u001b[38;5;8m│\u001b[0m\u001b[38;5;2m⡇\u001b[0m⠀⠀⠀\u001b[38;5;2m⢸\u001b[0m⠀⠀⠀⠀⠀⠀⠀⠀⠀⠀⠀⠀⠀⠀⠀⠀⠀⠀⠀⠀⠀⠀⠀⠀⠀⠀⠀⠀⠀⠀⠀⠀⠀⠀⠀\u001b[38;5;8m│\u001b[0m \u001b[38;5;8m\u001b[0m       \n",
       "   Score        \u001b[38;5;8m\u001b[0m \u001b[38;5;8m│\u001b[0m\u001b[38;5;2m⡇\u001b[0m⠀⠀⠀\u001b[38;5;2m⢸\u001b[0m⠀⠀⠀⠀⠀⠀⠀⠀⠀⠀⠀⠀⠀⠀⠀⠀⠀⠀⠀⠀⠀⠀⠀⠀⠀⠀⠀⠀⠀⠀⠀⠀⠀⠀⠀\u001b[38;5;8m│\u001b[0m \u001b[38;5;8m\u001b[0m       \n",
       "                \u001b[38;5;8m\u001b[0m \u001b[38;5;8m│\u001b[0m\u001b[38;5;2m⡇\u001b[0m⠀⠀⠀\u001b[38;5;2m⢸\u001b[0m⠀⠀⠀⠀⠀⠀⠀⠀⠀⠀⠀⠀⠀⠀⠀⠀⠀⠀⠀⠀⠀⠀⠀⠀⠀⠀⠀⠀⠀⠀⠀⠀⠀⠀⠀\u001b[38;5;8m│\u001b[0m \u001b[38;5;8m\u001b[0m       \n",
       "                \u001b[38;5;8m\u001b[0m \u001b[38;5;8m│\u001b[0m\u001b[38;5;2m⡇\u001b[0m⠀⠀⠀\u001b[38;5;2m⢸\u001b[0m⠀⠀⠀⠀⠀⠀⠀⠀⠀⠀⠀⠀⠀⠀⠀⠀⠀⠀⠀⠀⠀⠀⠀⠀⠀⠀⠀⠀⠀⠀⠀⠀⠀⠀⠀\u001b[38;5;8m│\u001b[0m \u001b[38;5;8m\u001b[0m       \n",
       "                \u001b[38;5;8m\u001b[0m \u001b[38;5;8m│\u001b[0m\u001b[38;5;2m⢇\u001b[0m⠀⠀⠀\u001b[38;5;2m⢸\u001b[0m⠀⠀⠀⠀⠀⠀⠀⠀⠀⠀⠀⠀⠀⠀⠀⠀⠀⠀⠀⠀⠀⠀⠀⠀⠀⠀⠀⠀⠀⠀⠀⠀⠀⠀⠀\u001b[38;5;8m│\u001b[0m \u001b[38;5;8m\u001b[0m       \n",
       "                \u001b[38;5;8m\u001b[0m \u001b[38;5;8m│\u001b[0m\u001b[38;5;2m⢸\u001b[0m⠀⠀⠀\u001b[38;5;2m⢸\u001b[0m⠀⠀⠀⠀⠀⠀⠀⠀⠀⠀⠀⠀⠀⠀⠀⠀⠀⠀⠀⠀⠀⠀⠀⠀⠀⠀⠀⠀⠀⠀⠀⠀⠀⠀⠀\u001b[38;5;8m│\u001b[0m \u001b[38;5;8m\u001b[0m       \n",
       "                \u001b[38;5;8m\u001b[0m \u001b[38;5;8m│\u001b[0m\u001b[38;5;2m⢸\u001b[0m⠀⠀⠀\u001b[38;5;2m⢸\u001b[0m⠀⠀⠀⠀⠀⠀⠀⠀⠀⠀⠀⠀⠀⠀⠀⠀⠀⠀⠀⠀⠀⠀⠀⠀⠀⠀⠀⠀⠀⠀⠀⠀⠀⠀⠀\u001b[38;5;8m│\u001b[0m \u001b[38;5;8m\u001b[0m       \n",
       "                \u001b[38;5;8m\u001b[0m \u001b[38;5;8m│\u001b[0m\u001b[38;5;2m⢸\u001b[0m⠀⠀⠀\u001b[38;5;2m⢸\u001b[0m⠀⠀⠀⠀⠀⠀⠀⠀⠀⠀⠀⠀⠀⠀⠀⠀⠀⠀⠀⠀⠀⠀⠀⠀⠀⠀⠀⠀⠀⠀⠀⠀⠀⠀⠀\u001b[38;5;8m│\u001b[0m \u001b[38;5;8m\u001b[0m       \n",
       "         \u001b[38;5;8m147.095\u001b[0m \u001b[38;5;8m│\u001b[0m\u001b[38;5;2m⢸\u001b[0m\u001b[38;5;2m⣀\u001b[0m\u001b[38;5;2m⣀\u001b[0m\u001b[38;5;2m⣀\u001b[0m\u001b[38;5;2m⣸\u001b[0m⠀⠀⠀⠀⠀⠀⠀⠀⠀⠀⠀⠀⠀⠀⠀⠀⠀⠀⠀⠀⠀⠀⠀⠀⠀⠀⠀⠀⠀⠀⠀⠀⠀⠀⠀\u001b[38;5;8m│\u001b[0m \u001b[38;5;8m\u001b[0m       \n",
       "                 \u001b[38;5;8m└────────────────────────────────────────┘\u001b[0m        \n",
       "                 ⠀\u001b[38;5;8m0\u001b[0m⠀⠀⠀⠀⠀⠀⠀⠀⠀⠀⠀⠀⠀⠀⠀⠀⠀⠀\u001b[38;5;8m\u001b[0m⠀⠀⠀⠀⠀⠀⠀⠀⠀⠀⠀⠀⠀⠀⠀⠀⠀⠀\u001b[38;5;8m300\u001b[0m⠀        \n",
       "                 ⠀⠀⠀⠀⠀⠀⠀⠀⠀⠀⠀⠀⠀⠀⠀⠀⠀⠀Episode⠀⠀⠀⠀⠀⠀⠀⠀⠀⠀⠀⠀⠀⠀⠀⠀⠀        "
      ]
     },
     "metadata": {},
     "output_type": "display_data"
    }
   ],
   "source": [
    "Learn(controller, env, num_episodes = 250);"
   ]
  },
  {
   "attachments": {},
   "cell_type": "markdown",
   "id": "d56598c5",
   "metadata": {},
   "source": [
    "The learning curve of accumulated reward per episode is printed to the command line/output window as shown above.\n",
    "\n",
    "After the training, the `Simulate()` function is used to run a test epiode without action noise and the state to be controlled ($i_\\mathrm{L1}$) is plotted:"
   ]
  },
  {
   "cell_type": "code",
   "execution_count": 11,
   "id": "6d35577b",
   "metadata": {},
   "outputs": [
    {
     "data": {
      "application/vnd.plotly.v1+json": {
       "config": {
        "editable": false,
        "responsive": true,
        "scrollZoom": true,
        "showLink": false,
        "staticPlot": false
       },
       "data": [
        {
         "mode": "lines",
         "name": "source1_i_L1",
         "type": "scatter",
         "x": [
          0,
          0.0001,
          0.0002,
          0.0003,
          0.0004,
          0.0005,
          0.0006,
          0.0007,
          0.0008,
          0.0009,
          0.001,
          0.0011,
          0.0012,
          0.0013,
          0.0014,
          0.0015,
          0.0016,
          0.0017,
          0.0018,
          0.0019,
          0.002,
          0.0021,
          0.0022,
          0.0023,
          0.0024,
          0.0025,
          0.0026,
          0.0027,
          0.0028,
          0.0029,
          0.003,
          0.0031,
          0.0032,
          0.0033,
          0.0034,
          0.0035,
          0.0036,
          0.0037,
          0.0038,
          0.0039,
          0.004,
          0.0041,
          0.0042,
          0.0043,
          0.0044,
          0.0045,
          0.0046,
          0.0047,
          0.0048,
          0.0049,
          0.005,
          0.0051,
          0.0052,
          0.0053,
          0.0054,
          0.0055,
          0.0056,
          0.0057,
          0.0058,
          0.0059,
          0.006,
          0.0061,
          0.0062,
          0.0063,
          0.0064,
          0.0065,
          0.0066,
          0.0067,
          0.0068,
          0.0069,
          0.007,
          0.0071,
          0.0072,
          0.0073,
          0.0074,
          0.0075,
          0.0076,
          0.0077,
          0.0078,
          0.0079,
          0.008,
          0.0081,
          0.0082,
          0.0083,
          0.0084,
          0.0085,
          0.0086,
          0.0087,
          0.0088,
          0.0089,
          0.009,
          0.0091,
          0.0092,
          0.0093,
          0.0094,
          0.0095,
          0.0096,
          0.0097,
          0.0098,
          0.0099,
          0.01,
          0.0101,
          0.0102,
          0.0103,
          0.0104,
          0.0105,
          0.0106,
          0.0107,
          0.0108,
          0.0109,
          0.011,
          0.0111,
          0.0112,
          0.0113,
          0.0114,
          0.0115,
          0.0116,
          0.0117,
          0.0118,
          0.0119,
          0.012,
          0.0121,
          0.0122,
          0.0123,
          0.0124,
          0.0125,
          0.0126,
          0.0127,
          0.0128,
          0.0129,
          0.013,
          0.0131,
          0.0132,
          0.0133,
          0.0134,
          0.0135,
          0.0136,
          0.0137,
          0.0138,
          0.0139,
          0.014,
          0.0141,
          0.0142,
          0.0143,
          0.0144,
          0.0145,
          0.0146,
          0.0147,
          0.0148,
          0.0149,
          0.015,
          0.0151,
          0.0152,
          0.0153,
          0.0154,
          0.0155,
          0.0156,
          0.0157,
          0.0158,
          0.0159,
          0.016,
          0.0161,
          0.0162,
          0.0163,
          0.0164,
          0.0165,
          0.0166,
          0.0167,
          0.0168,
          0.0169,
          0.017,
          0.0171,
          0.0172,
          0.0173,
          0.0174,
          0.0175,
          0.0176,
          0.0177,
          0.0178,
          0.0179,
          0.018,
          0.0181,
          0.0182,
          0.0183,
          0.0184,
          0.0185,
          0.0186,
          0.0187,
          0.0188,
          0.0189,
          0.019,
          0.0191,
          0.0192,
          0.0193,
          0.0194,
          0.0195,
          0.0196,
          0.0197,
          0.0198,
          0.0199,
          0.02,
          0.0201,
          0.0202,
          0.0203,
          0.0204,
          0.0205,
          0.0206,
          0.0207,
          0.0208,
          0.0209,
          0.021,
          0.0211,
          0.0212,
          0.0213,
          0.0214,
          0.0215,
          0.0216,
          0.0217,
          0.0218,
          0.0219,
          0.022,
          0.0221,
          0.0222,
          0.0223,
          0.0224,
          0.0225,
          0.0226,
          0.0227,
          0.0228,
          0.0229,
          0.023,
          0.0231,
          0.0232,
          0.0233,
          0.0234,
          0.0235,
          0.0236,
          0.0237,
          0.0238,
          0.0239,
          0.024,
          0.0241,
          0.0242,
          0.0243,
          0.0244,
          0.0245,
          0.0246,
          0.0247,
          0.0248,
          0.0249,
          0.025
         ],
         "y": [
          0,
          0.87254113432598,
          0.9063314025629288,
          0.8657468132084779,
          0.8397405322159823,
          0.8336038575681666,
          0.83924469072278,
          0.8468747709111281,
          0.8492483532331812,
          0.8434424717562164,
          0.830682538887379,
          0.8148008384262649,
          0.8001916374689544,
          0.7900855286702974,
          0.7856565198064889,
          0.7860649044872525,
          0.7891923825124956,
          0.7926469854497962,
          0.7946251052359173,
          0.7943673250248702,
          0.7921485731783953,
          0.7889180099514115,
          0.7857968170015944,
          0.7836406660695543,
          0.7828013910003027,
          0.7831213138758906,
          0.7841055535215378,
          0.7851696708753879,
          0.785858973916016,
          0.7859707046478818,
          0.7855604475662814,
          0.7848584959093479,
          0.7841466920128723,
          0.7836476435985373,
          0.7834613991889394,
          0.7835598420935882,
          0.7838267175530185,
          0.7841184331719138,
          0.7843196484244246,
          0.7843757605025945,
          0.7842966839208283,
          0.7841375626569265,
          0.7839686307176489,
          0.783847215651118,
          0.7838009961622006,
          0.7838255455948182,
          0.7838935422287034,
          0.783969646495569,
          0.7840245483820423,
          0.7840435480048216,
          0.7840280377221418,
          0.783991093192253,
          0.7839501165175928,
          0.7839197767887203,
          0.7839076051530225,
          0.7839131170474738,
          0.7839299088717158,
          0.7839492864735997,
          0.7839638050257219,
          0.7839695229094144,
          0.7839665049645222,
          0.7839578256618824,
          0.7839477784795297,
          0.783940099977152,
          0.7839368162169594,
          0.7839379577946975,
          0.7839420311224774,
          0.7839469005069052,
          0.7839506778428046,
          0.7839523117786391,
          0.7839517463025445,
          0.7839496984172518,
          0.7839472236684394,
          0.7839452704477758,
          0.7839443791943126,
          0.783944594931739,
          0.7839455715673291,
          0.7839467855988418,
          0.783947759159015,
          0.7839482133538167,
          0.7839481159891194,
          0.7839476328335115,
          0.7839470225529371,
          0.783946525125923,
          0.783946283724859,
          0.7839463188485429,
          0.7839465509525664,
          0.7839468520411752,
          0.7839471014451488,
          0.7839472255715092,
          0.7839472118235395,
          0.7839470981546535,
          0.7839469477532799,
          0.7839468211738514,
          0.7839467561255642,
          0.7839467600211252,
          0.7839468147593992,
          0.7839468891335241,
          0.7839469527450631,
          0.7839469862704058,
          0.783946985428911,
          0.7839469588115819,
          0.783946921805698,
          0.7839468896510475,
          0.7839468722290489,
          0.78394687195888,
          0.7839468847713759,
          0.7839469030808679,
          0.7839469192482247,
          0.7839469282226889,
          0.7839469286535241,
          0.7839469224589095,
          0.7839469133734817,
          0.7839469052230288,
          0.7839469005851002,
          0.7839469002042027,
          0.7839469031793742,
          0.7839469076727725,
          0.7839469117693035,
          0.7839469141543396,
          0.7839469144209932,
          0.7839469129901935,
          0.7839469107652324,
          0.7839469087041353,
          0.7839469074764696,
          0.7839469073028739,
          0.7839469079875966,
          0.7839469090869704,
          0.7839469101220957,
          0.7839469107521202,
          0.7839469108581356,
          0.783946910530634,
          0.7839469099872693,
          0.7839469094673261,
          0.7839469091440667,
          0.7839469090811457,
          0.7839469092371572,
          0.7839469095053087,
          0.7839469097661578,
          0.7839469099316805,
          0.7839469099679376,
          0.7839469098938052,
          0.7839469097614944,
          0.7839469096306266,
          0.7839469095459553,
          0.7839469095253606,
          0.7839469095605145,
          0.7839469096256979,
          0.783946909691253,
          0.7839469097345159,
          0.7839469097460003,
          0.7839469097294578,
          0.7839469096973305,
          0.783946909664496,
          0.7839469096423789,
          0.7839469096360386,
          0.7839469096438008,
          0.7839469096596147,
          0.7839469096760454,
          0.7839469096873262,
          0.7839469096907985,
          0.7839469096871816,
          0.783946909679399,
          0.7839469096711367,
          0.7839469096653993,
          0.7839469096635161,
          0.7839469096652434,
          0.7839469096690346,
          0.7839469096731656,
          0.7839469096761054,
          0.7839469096771099,
          0.783946909676297,
          0.7839469096744446,
          0.7839469096723823,
          0.7839469096709019,
          0.7839469096703541,
          0.7839469096707362,
          0.7839469096716458,
          0.7839469096726736,
          0.7839469096734223,
          0.7839469096737193,
          0.783946909673542,
          0.783946909673096,
          0.7839469096725993,
          0.7839469096722338,
          0.7839469096720231,
          0.7839469096721174,
          0.7839469096723755,
          0.7839469096726128,
          0.7839469096728103,
          0.7839469096728814,
          0.7839469096728373,
          0.7839469096727325,
          0.7839469096726266,
          0.7839469096725367,
          0.78394690967249,
          0.783946909672533,
          0.7839469096725615,
          0.7839469096726153,
          0.7839469096726628,
          0.783946909672691,
          0.7839469096726762,
          0.7839469096726561,
          0.7839469096726359,
          0.7839469096725917,
          0.7839469096725957,
          0.7839469096725684,
          0.7839469096726102,
          0.7839469096725995,
          0.7839469096726153,
          0.7839469096725967,
          0.7839469096726109,
          0.7839469096725934,
          0.7839469096726159,
          0.7839469096725975,
          0.7839469096726207,
          0.7839469096726124,
          0.7839469096726062,
          0.7839469096726072,
          0.7839469096726166,
          0.7839469096726313,
          0.7839469096725951,
          0.7839469096726368,
          0.7839469096725957,
          0.7839469096726296,
          0.7839469096726321,
          0.7839469096726306,
          0.7839469096726277,
          0.7839469096726261,
          0.7839469096726269,
          0.7839469096726299,
          0.7839469096726338,
          0.7839469096726367,
          0.7839469096726375,
          0.7839469096726357,
          0.783946909672607,
          0.783946909672607,
          0.7839469096726099,
          0.7839469096726148,
          0.7839469096726202,
          0.7839469096726246,
          0.7839469096726273,
          0.7839469096726279,
          0.7839469096726275,
          0.7839469096726266,
          0.7839469096726264,
          0.7839469096726269,
          0.7839469096726281,
          0.7839469096726295,
          0.7839469096726304,
          0.7839469096726304
         ]
        }
       ],
       "frames": [],
       "layout": {
        "height": 550,
        "legend": {
         "orientation": "h",
         "x": 1,
         "xanchor": "right",
         "y": 1.02,
         "yanchor": "bottom"
        },
        "margin": {
         "b": 80,
         "l": 100,
         "pad": 10,
         "r": 80,
         "t": 100
        },
        "plot_bgcolor": "#f1f3f7",
        "template": {
         "data": {
          "bar": [
           {
            "error_x": {
             "color": "#2a3f5f"
            },
            "error_y": {
             "color": "#2a3f5f"
            },
            "marker": {
             "line": {
              "color": "#E5ECF6",
              "width": 0.5
             }
            },
            "type": "bar"
           }
          ],
          "barpolar": [
           {
            "marker": {
             "line": {
              "color": "#E5ECF6",
              "width": 0.5
             }
            },
            "type": "barpolar"
           }
          ],
          "carpet": [
           {
            "aaxis": {
             "endlinecolor": "#2a3f5f",
             "gridcolor": "white",
             "linecolor": "white",
             "minorgridcolor": "white",
             "startlinecolor": "#2a3f5f"
            },
            "baxis": {
             "endlinecolor": "#2a3f5f",
             "gridcolor": "white",
             "linecolor": "white",
             "minorgridcolor": "white",
             "startlinecolor": "#2a3f5f"
            },
            "type": "carpet"
           }
          ],
          "choropleth": [
           {
            "colorbar": {
             "outlinewidth": 0,
             "ticks": ""
            },
            "type": "choropleth"
           }
          ],
          "contour": [
           {
            "colorbar": {
             "outlinewidth": 0,
             "ticks": ""
            },
            "colorscale": [
             [
              0,
              "#0d0887"
             ],
             [
              0.1111111111111111,
              "#46039f"
             ],
             [
              0.2222222222222222,
              "#7201a8"
             ],
             [
              0.3333333333333333,
              "#9c179e"
             ],
             [
              0.4444444444444444,
              "#bd3786"
             ],
             [
              0.5555555555555556,
              "#d8576b"
             ],
             [
              0.6666666666666666,
              "#ed7953"
             ],
             [
              0.7777777777777778,
              "#fb9f3a"
             ],
             [
              0.8888888888888888,
              "#fdca26"
             ],
             [
              1,
              "#f0f921"
             ]
            ],
            "type": "contour"
           }
          ],
          "contourcarpet": [
           {
            "colorbar": {
             "outlinewidth": 0,
             "ticks": ""
            },
            "type": "contourcarpet"
           }
          ],
          "heatmap": [
           {
            "colorbar": {
             "outlinewidth": 0,
             "ticks": ""
            },
            "colorscale": [
             [
              0,
              "#0d0887"
             ],
             [
              0.1111111111111111,
              "#46039f"
             ],
             [
              0.2222222222222222,
              "#7201a8"
             ],
             [
              0.3333333333333333,
              "#9c179e"
             ],
             [
              0.4444444444444444,
              "#bd3786"
             ],
             [
              0.5555555555555556,
              "#d8576b"
             ],
             [
              0.6666666666666666,
              "#ed7953"
             ],
             [
              0.7777777777777778,
              "#fb9f3a"
             ],
             [
              0.8888888888888888,
              "#fdca26"
             ],
             [
              1,
              "#f0f921"
             ]
            ],
            "type": "heatmap"
           }
          ],
          "heatmapgl": [
           {
            "colorbar": {
             "outlinewidth": 0,
             "ticks": ""
            },
            "colorscale": [
             [
              0,
              "#0d0887"
             ],
             [
              0.1111111111111111,
              "#46039f"
             ],
             [
              0.2222222222222222,
              "#7201a8"
             ],
             [
              0.3333333333333333,
              "#9c179e"
             ],
             [
              0.4444444444444444,
              "#bd3786"
             ],
             [
              0.5555555555555556,
              "#d8576b"
             ],
             [
              0.6666666666666666,
              "#ed7953"
             ],
             [
              0.7777777777777778,
              "#fb9f3a"
             ],
             [
              0.8888888888888888,
              "#fdca26"
             ],
             [
              1,
              "#f0f921"
             ]
            ],
            "type": "heatmapgl"
           }
          ],
          "histogram": [
           {
            "marker": {
             "colorbar": {
              "outlinewidth": 0,
              "ticks": ""
             }
            },
            "type": "histogram"
           }
          ],
          "histogram2d": [
           {
            "colorbar": {
             "outlinewidth": 0,
             "ticks": ""
            },
            "colorscale": [
             [
              0,
              "#0d0887"
             ],
             [
              0.1111111111111111,
              "#46039f"
             ],
             [
              0.2222222222222222,
              "#7201a8"
             ],
             [
              0.3333333333333333,
              "#9c179e"
             ],
             [
              0.4444444444444444,
              "#bd3786"
             ],
             [
              0.5555555555555556,
              "#d8576b"
             ],
             [
              0.6666666666666666,
              "#ed7953"
             ],
             [
              0.7777777777777778,
              "#fb9f3a"
             ],
             [
              0.8888888888888888,
              "#fdca26"
             ],
             [
              1,
              "#f0f921"
             ]
            ],
            "type": "histogram2d"
           }
          ],
          "histogram2dcontour": [
           {
            "colorbar": {
             "outlinewidth": 0,
             "ticks": ""
            },
            "colorscale": [
             [
              0,
              "#0d0887"
             ],
             [
              0.1111111111111111,
              "#46039f"
             ],
             [
              0.2222222222222222,
              "#7201a8"
             ],
             [
              0.3333333333333333,
              "#9c179e"
             ],
             [
              0.4444444444444444,
              "#bd3786"
             ],
             [
              0.5555555555555556,
              "#d8576b"
             ],
             [
              0.6666666666666666,
              "#ed7953"
             ],
             [
              0.7777777777777778,
              "#fb9f3a"
             ],
             [
              0.8888888888888888,
              "#fdca26"
             ],
             [
              1,
              "#f0f921"
             ]
            ],
            "type": "histogram2dcontour"
           }
          ],
          "mesh3d": [
           {
            "colorbar": {
             "outlinewidth": 0,
             "ticks": ""
            },
            "type": "mesh3d"
           }
          ],
          "parcoords": [
           {
            "line": {
             "colorbar": {
              "outlinewidth": 0,
              "ticks": ""
             }
            },
            "type": "parcoords"
           }
          ],
          "pie": [
           {
            "automargin": true,
            "type": "pie"
           }
          ],
          "scatter": [
           {
            "marker": {
             "colorbar": {
              "outlinewidth": 0,
              "ticks": ""
             }
            },
            "type": "scatter"
           }
          ],
          "scatter3d": [
           {
            "line": {
             "colorbar": {
              "outlinewidth": 0,
              "ticks": ""
             }
            },
            "marker": {
             "colorbar": {
              "outlinewidth": 0,
              "ticks": ""
             }
            },
            "type": "scatter3d"
           }
          ],
          "scattercarpet": [
           {
            "marker": {
             "colorbar": {
              "outlinewidth": 0,
              "ticks": ""
             }
            },
            "type": "scattercarpet"
           }
          ],
          "scattergeo": [
           {
            "marker": {
             "colorbar": {
              "outlinewidth": 0,
              "ticks": ""
             }
            },
            "type": "scattergeo"
           }
          ],
          "scattergl": [
           {
            "marker": {
             "colorbar": {
              "outlinewidth": 0,
              "ticks": ""
             }
            },
            "type": "scattergl"
           }
          ],
          "scattermapbox": [
           {
            "marker": {
             "colorbar": {
              "outlinewidth": 0,
              "ticks": ""
             }
            },
            "type": "scattermapbox"
           }
          ],
          "scatterpolar": [
           {
            "marker": {
             "colorbar": {
              "outlinewidth": 0,
              "ticks": ""
             }
            },
            "type": "scatterpolar"
           }
          ],
          "scatterpolargl": [
           {
            "marker": {
             "colorbar": {
              "outlinewidth": 0,
              "ticks": ""
             }
            },
            "type": "scatterpolargl"
           }
          ],
          "scatterternary": [
           {
            "marker": {
             "colorbar": {
              "outlinewidth": 0,
              "ticks": ""
             }
            },
            "type": "scatterternary"
           }
          ],
          "surface": [
           {
            "colorbar": {
             "outlinewidth": 0,
             "ticks": ""
            },
            "colorscale": [
             [
              0,
              "#0d0887"
             ],
             [
              0.1111111111111111,
              "#46039f"
             ],
             [
              0.2222222222222222,
              "#7201a8"
             ],
             [
              0.3333333333333333,
              "#9c179e"
             ],
             [
              0.4444444444444444,
              "#bd3786"
             ],
             [
              0.5555555555555556,
              "#d8576b"
             ],
             [
              0.6666666666666666,
              "#ed7953"
             ],
             [
              0.7777777777777778,
              "#fb9f3a"
             ],
             [
              0.8888888888888888,
              "#fdca26"
             ],
             [
              1,
              "#f0f921"
             ]
            ],
            "type": "surface"
           }
          ],
          "table": [
           {
            "cells": {
             "fill": {
              "color": "#EBF0F8"
             },
             "line": {
              "color": "white"
             }
            },
            "header": {
             "fill": {
              "color": "#C8D4E3"
             },
             "line": {
              "color": "white"
             }
            },
            "type": "table"
           }
          ]
         },
         "layout": {
          "annotationdefaults": {
           "arrowcolor": "#2a3f5f",
           "arrowhead": 0,
           "arrowwidth": 1
          },
          "autotypenumbers": "strict",
          "coloraxis": {
           "colorbar": {
            "outlinewidth": 0,
            "ticks": ""
           }
          },
          "colorscale": {
           "diverging": [
            [
             0,
             "#8e0152"
            ],
            [
             0.1,
             "#c51b7d"
            ],
            [
             0.2,
             "#de77ae"
            ],
            [
             0.3,
             "#f1b6da"
            ],
            [
             0.4,
             "#fde0ef"
            ],
            [
             0.5,
             "#f7f7f7"
            ],
            [
             0.6,
             "#e6f5d0"
            ],
            [
             0.7,
             "#b8e186"
            ],
            [
             0.8,
             "#7fbc41"
            ],
            [
             0.9,
             "#4d9221"
            ],
            [
             1,
             "#276419"
            ]
           ],
           "sequential": [
            [
             0,
             "#0d0887"
            ],
            [
             0.1111111111111111,
             "#46039f"
            ],
            [
             0.2222222222222222,
             "#7201a8"
            ],
            [
             0.3333333333333333,
             "#9c179e"
            ],
            [
             0.4444444444444444,
             "#bd3786"
            ],
            [
             0.5555555555555556,
             "#d8576b"
            ],
            [
             0.6666666666666666,
             "#ed7953"
            ],
            [
             0.7777777777777778,
             "#fb9f3a"
            ],
            [
             0.8888888888888888,
             "#fdca26"
            ],
            [
             1,
             "#f0f921"
            ]
           ],
           "sequentialminus": [
            [
             0,
             "#0d0887"
            ],
            [
             0.1111111111111111,
             "#46039f"
            ],
            [
             0.2222222222222222,
             "#7201a8"
            ],
            [
             0.3333333333333333,
             "#9c179e"
            ],
            [
             0.4444444444444444,
             "#bd3786"
            ],
            [
             0.5555555555555556,
             "#d8576b"
            ],
            [
             0.6666666666666666,
             "#ed7953"
            ],
            [
             0.7777777777777778,
             "#fb9f3a"
            ],
            [
             0.8888888888888888,
             "#fdca26"
            ],
            [
             1,
             "#f0f921"
            ]
           ]
          },
          "colorway": [
           "#636efa",
           "#EF553B",
           "#00cc96",
           "#ab63fa",
           "#FFA15A",
           "#19d3f3",
           "#FF6692",
           "#B6E880",
           "#FF97FF",
           "#FECB52"
          ],
          "font": {
           "color": "#2a3f5f"
          },
          "geo": {
           "bgcolor": "white",
           "lakecolor": "white",
           "landcolor": "#E5ECF6",
           "showlakes": true,
           "showland": true,
           "subunitcolor": "white"
          },
          "hoverlabel": {
           "align": "left"
          },
          "hovermode": "closest",
          "mapbox": {
           "style": "light"
          },
          "paper_bgcolor": "white",
          "plot_bgcolor": "#E5ECF6",
          "polar": {
           "angularaxis": {
            "gridcolor": "white",
            "linecolor": "white",
            "ticks": ""
           },
           "bgcolor": "#E5ECF6",
           "radialaxis": {
            "gridcolor": "white",
            "linecolor": "white",
            "ticks": ""
           }
          },
          "scene": {
           "xaxis": {
            "backgroundcolor": "#E5ECF6",
            "gridcolor": "white",
            "gridwidth": 2,
            "linecolor": "white",
            "showbackground": true,
            "ticks": "",
            "zerolinecolor": "white"
           },
           "yaxis": {
            "backgroundcolor": "#E5ECF6",
            "gridcolor": "white",
            "gridwidth": 2,
            "linecolor": "white",
            "showbackground": true,
            "ticks": "",
            "zerolinecolor": "white"
           },
           "zaxis": {
            "backgroundcolor": "#E5ECF6",
            "gridcolor": "white",
            "gridwidth": 2,
            "linecolor": "white",
            "showbackground": true,
            "ticks": "",
            "zerolinecolor": "white"
           }
          },
          "shapedefaults": {
           "line": {
            "color": "#2a3f5f"
           }
          },
          "ternary": {
           "aaxis": {
            "gridcolor": "white",
            "linecolor": "white",
            "ticks": ""
           },
           "baxis": {
            "gridcolor": "white",
            "linecolor": "white",
            "ticks": ""
           },
           "bgcolor": "#E5ECF6",
           "caxis": {
            "gridcolor": "white",
            "linecolor": "white",
            "ticks": ""
           }
          },
          "title": {
           "x": 0.05
          },
          "xaxis": {
           "automargin": true,
           "gridcolor": "white",
           "linecolor": "white",
           "ticks": "",
           "title": {
            "standoff": 15
           },
           "zerolinecolor": "white",
           "zerolinewidth": 2
          },
          "yaxis": {
           "automargin": true,
           "gridcolor": "white",
           "linecolor": "white",
           "ticks": "",
           "title": {
            "standoff": 15
           },
           "zerolinecolor": "white",
           "zerolinewidth": 2
          }
         }
        },
        "width": 800,
        "xaxis": {
         "title": {
          "text": "Time in Seconds"
         }
        },
        "yaxis": {
         "title": {
          "text": "State values"
         }
        },
        "yaxis2": {
         "overlaying": "y",
         "side": "right",
         "title": "Action values",
         "titlefont": {
          "color": "orange"
         }
        }
       }
      },
      "image/png": "[encoded data removed]",
      "image/svg+xml": [
       "<svg class=\"main-svg\" xmlns=\"http://www.w3.org/2000/svg\" xmlns:xlink=\"http://www.w3.org/1999/xlink\" width=\"700\" height=\"500\" style=\"\" viewBox=\"0 0 700 500\"><rect x=\"0\" y=\"0\" width=\"700\" height=\"500\" style=\"fill: rgb(255, 255, 255); fill-opacity: 1;\"/><defs id=\"defs-48e192\"><g class=\"clips\"><clipPath id=\"clip48e192xyplot\" class=\"plotclip\"><rect width=\"520\" height=\"320\"/></clipPath><clipPath class=\"axesclip\" id=\"clip48e192x\"><rect x=\"100\" y=\"0\" width=\"520\" height=\"500\"/></clipPath><clipPath class=\"axesclip\" id=\"clip48e192y\"><rect x=\"0\" y=\"100\" width=\"700\" height=\"320\"/></clipPath><clipPath class=\"axesclip\" id=\"clip48e192xy\"><rect x=\"100\" y=\"100\" width=\"520\" height=\"320\"/></clipPath></g><g class=\"gradients\"/></defs><g class=\"bglayer\"><rect class=\"bg\" x=\"90\" y=\"90\" width=\"540\" height=\"340\" style=\"fill: rgb(241, 243, 247); fill-opacity: 1; stroke-width: 0;\"/></g><g class=\"layer-below\"><g class=\"imagelayer\"/><g class=\"shapelayer\"/></g><g class=\"cartesianlayer\"><g class=\"subplot xy\"><g class=\"layer-subplot\"><g class=\"shapelayer\"/><g class=\"imagelayer\"/></g><g class=\"gridlayer\"><g class=\"x\"><path class=\"xgrid crisp\" transform=\"translate(204,0)\" d=\"M0,100v320\" style=\"stroke: rgb(255, 255, 255); stroke-opacity: 1; stroke-width: 1px;\"/><path class=\"xgrid crisp\" transform=\"translate(308,0)\" d=\"M0,100v320\" style=\"stroke: rgb(255, 255, 255); stroke-opacity: 1; stroke-width: 1px;\"/><path class=\"xgrid crisp\" transform=\"translate(412,0)\" d=\"M0,100v320\" style=\"stroke: rgb(255, 255, 255); stroke-opacity: 1; stroke-width: 1px;\"/><path class=\"xgrid crisp\" transform=\"translate(516,0)\" d=\"M0,100v320\" style=\"stroke: rgb(255, 255, 255); stroke-opacity: 1; stroke-width: 1px;\"/></g><g class=\"y\"><path class=\"ygrid crisp\" transform=\"translate(0,340.45)\" d=\"M100,0h520\" style=\"stroke: rgb(255, 255, 255); stroke-opacity: 1; stroke-width: 1px;\"/><path class=\"ygrid crisp\" transform=\"translate(0,276.89)\" d=\"M100,0h520\" style=\"stroke: rgb(255, 255, 255); stroke-opacity: 1; stroke-width: 1px;\"/><path class=\"ygrid crisp\" transform=\"translate(0,213.34)\" d=\"M100,0h520\" style=\"stroke: rgb(255, 255, 255); stroke-opacity: 1; stroke-width: 1px;\"/><path class=\"ygrid crisp\" transform=\"translate(0,149.79)\" d=\"M100,0h520\" style=\"stroke: rgb(255, 255, 255); stroke-opacity: 1; stroke-width: 1px;\"/></g></g><g class=\"zerolinelayer\"><path class=\"xzl zl crisp\" transform=\"translate(100,0)\" d=\"M0,100v320\" style=\"stroke: rgb(255, 255, 255); stroke-opacity: 1; stroke-width: 2px;\"/><path class=\"yzl zl crisp\" transform=\"translate(0,404)\" d=\"M100,0h520\" style=\"stroke: rgb(255, 255, 255); stroke-opacity: 1; stroke-width: 2px;\"/></g><path class=\"xlines-below\"/><path class=\"ylines-below\"/><g class=\"overlines-below\"/><g class=\"xaxislayer-below\"/><g class=\"yaxislayer-below\"/><g class=\"overaxes-below\"/><g class=\"plot\" transform=\"translate(100,100)\" clip-path=\"url('#clip48e192xyplot')\"><g class=\"scatterlayer mlayer\"><g class=\"trace scatter trace00e35c\" style=\"stroke-miterlimit: 2; opacity: 1;\"><g class=\"fills\"/><g class=\"errorbars\"/><g class=\"lines\"><path class=\"js-line\" d=\"M0,304L2.08,26.74L4.16,16L8.32,37.16L10.4,39.11L14.56,34.89L16.64,34.14L18.72,35.98L20.8,40.04L24.96,49.73L27.04,52.94L29.12,54.35L31.2,54.22L37.44,51.5L39.52,51.58L49.92,55.25L52,55.15L60.32,54.25L62.4,54.38L72.8,55.01L74.88,54.93L89.44,54.92L91.52,54.94L249.6,54.89L251.68,54.89L520,54.89\" style=\"vector-effect: non-scaling-stroke; fill: none; stroke: rgb(99, 110, 250); stroke-opacity: 1; stroke-width: 2px; opacity: 1;\"/></g><g class=\"points\"/><g class=\"text\"/></g></g></g><g class=\"overplot\"/><path class=\"xlines-above crisp\" d=\"M0,0\" style=\"fill: none;\"/><path class=\"ylines-above crisp\" d=\"M0,0\" style=\"fill: none;\"/><g class=\"overlines-above\"/><g class=\"xaxislayer-above\"><g class=\"xtick\"><text text-anchor=\"middle\" x=\"0\" y=\"443\" transform=\"translate(100,0)\" style=\"font-family: 'Open Sans', verdana, arial, sans-serif; font-size: 12px; fill: rgb(42, 63, 95); fill-opacity: 1; white-space: pre;\">0</text></g><g class=\"xtick\"><text text-anchor=\"middle\" x=\"0\" y=\"443\" transform=\"translate(204,0)\" style=\"font-family: 'Open Sans', verdana, arial, sans-serif; font-size: 12px; fill: rgb(42, 63, 95); fill-opacity: 1; white-space: pre;\">0.005</text></g><g class=\"xtick\"><text text-anchor=\"middle\" x=\"0\" y=\"443\" transform=\"translate(308,0)\" style=\"font-family: 'Open Sans', verdana, arial, sans-serif; font-size: 12px; fill: rgb(42, 63, 95); fill-opacity: 1; white-space: pre;\">0.01</text></g><g class=\"xtick\"><text text-anchor=\"middle\" x=\"0\" y=\"443\" transform=\"translate(412,0)\" style=\"font-family: 'Open Sans', verdana, arial, sans-serif; font-size: 12px; fill: rgb(42, 63, 95); fill-opacity: 1; white-space: pre;\">0.015</text></g><g class=\"xtick\"><text text-anchor=\"middle\" x=\"0\" y=\"443\" transform=\"translate(516,0)\" style=\"font-family: 'Open Sans', verdana, arial, sans-serif; font-size: 12px; fill: rgb(42, 63, 95); fill-opacity: 1; white-space: pre;\">0.02</text></g><g class=\"xtick\"><text text-anchor=\"middle\" x=\"0\" y=\"443\" transform=\"translate(620,0)\" style=\"font-family: 'Open Sans', verdana, arial, sans-serif; font-size: 12px; fill: rgb(42, 63, 95); fill-opacity: 1; white-space: pre;\">0.025</text></g></g><g class=\"yaxislayer-above\"><g class=\"ytick\"><text text-anchor=\"end\" x=\"89\" y=\"4.199999999999999\" transform=\"translate(0,404)\" style=\"font-family: 'Open Sans', verdana, arial, sans-serif; font-size: 12px; fill: rgb(42, 63, 95); fill-opacity: 1; white-space: pre;\">0</text></g><g class=\"ytick\"><text text-anchor=\"end\" x=\"89\" y=\"4.199999999999999\" transform=\"translate(0,340.45)\" style=\"font-family: 'Open Sans', verdana, arial, sans-serif; font-size: 12px; fill: rgb(42, 63, 95); fill-opacity: 1; white-space: pre;\">0.2</text></g><g class=\"ytick\"><text text-anchor=\"end\" x=\"89\" y=\"4.199999999999999\" transform=\"translate(0,276.89)\" style=\"font-family: 'Open Sans', verdana, arial, sans-serif; font-size: 12px; fill: rgb(42, 63, 95); fill-opacity: 1; white-space: pre;\">0.4</text></g><g class=\"ytick\"><text text-anchor=\"end\" x=\"89\" y=\"4.199999999999999\" transform=\"translate(0,213.34)\" style=\"font-family: 'Open Sans', verdana, arial, sans-serif; font-size: 12px; fill: rgb(42, 63, 95); fill-opacity: 1; white-space: pre;\">0.6</text></g><g class=\"ytick\"><text text-anchor=\"end\" x=\"89\" y=\"4.199999999999999\" transform=\"translate(0,149.79)\" style=\"font-family: 'Open Sans', verdana, arial, sans-serif; font-size: 12px; fill: rgb(42, 63, 95); fill-opacity: 1; white-space: pre;\">0.8</text></g></g><g class=\"overaxes-above\"/></g></g><g class=\"polarlayer\"/><g class=\"ternarylayer\"/><g class=\"geolayer\"/><g class=\"funnelarealayer\"/><g class=\"pielayer\"/><g class=\"treemaplayer\"/><g class=\"sunburstlayer\"/><g class=\"glimages\"/><defs id=\"topdefs-48e192\"><g class=\"clips\"/></defs><g class=\"layer-above\"><g class=\"imagelayer\"/><g class=\"shapelayer\"/></g><g class=\"infolayer\"><g class=\"g-gtitle\"/><g class=\"g-xtitle\"><text class=\"xtitle\" x=\"360\" y=\"471.8\" text-anchor=\"middle\" style=\"font-family: 'Open Sans', verdana, arial, sans-serif; font-size: 14px; fill: rgb(42, 63, 95); opacity: 1; font-weight: normal; white-space: pre;\">Time in Seconds</text></g><g class=\"g-ytitle\"><text class=\"ytitle\" transform=\"rotate(-90,47.278125,260)\" x=\"47.278125\" y=\"260\" text-anchor=\"middle\" style=\"font-family: 'Open Sans', verdana, arial, sans-serif; font-size: 14px; fill: rgb(42, 63, 95); opacity: 1; font-weight: normal; white-space: pre;\">State values</text></g></g></svg>"
      ],
      "text/html": [
       "<html>\n",
       "<head><meta charset=\"utf-8\" /></head>\n",
       "<body>\n",
       "<div>\n",
       "    <script src=\"https://cdnjs.cloudflare.com/ajax/libs/mathjax/2.7.5/MathJax.js?config=TeX-AMS-MML_SVG\"></script>\n",
       "    <script type=\"text/javascript\">\n",
       "window.PlotlyConfig = {MathJaxConfig: 'local'};\n",
       "</script>\n",
       "<script src=\"https://cdn.plot.ly/plotly-2.3.0.min.js\"></script>\n",
       "\n",
       "    <div\n",
       "        id=a99cf74d-bd84-455d-8377-55388211955a\n",
       "        class=\"plotly-graph-div\"\n",
       "        style=\"height:550; width:800;\">\n",
       "    </div>\n",
       "    <script type=\"text/javascript\">\n",
       "        \n",
       "        window.PLOTLYENV = window.PLOTLYENV || {}\n",
       "        \n",
       "        if (document.getElementById('a99cf74d-bd84-455d-8377-55388211955a')) {\n",
       "    Plotly.newPlot(\n",
       "        'a99cf74d-bd84-455d-8377-55388211955a',\n",
       "        [{\"mode\":\"lines\",\"y\":[0.0,0.87254113432598,0.9063314025629288,0.8657468132084779,0.8397405322159823,0.8336038575681666,0.83924469072278,0.8468747709111281,0.8492483532331812,0.8434424717562164,0.830682538887379,0.8148008384262649,0.8001916374689544,0.7900855286702974,0.7856565198064889,0.7860649044872525,0.7891923825124956,0.7926469854497962,0.7946251052359173,0.7943673250248702,0.7921485731783953,0.7889180099514115,0.7857968170015944,0.7836406660695543,0.7828013910003027,0.7831213138758906,0.7841055535215378,0.7851696708753879,0.785858973916016,0.7859707046478818,0.7855604475662814,0.7848584959093479,0.7841466920128723,0.7836476435985373,0.7834613991889394,0.7835598420935882,0.7838267175530185,0.7841184331719138,0.7843196484244246,0.7843757605025945,0.7842966839208283,0.7841375626569265,0.7839686307176489,0.783847215651118,0.7838009961622006,0.7838255455948182,0.7838935422287034,0.783969646495569,0.7840245483820423,0.7840435480048216,0.7840280377221418,0.783991093192253,0.7839501165175928,0.7839197767887203,0.7839076051530225,0.7839131170474738,0.7839299088717158,0.7839492864735997,0.7839638050257219,0.7839695229094144,0.7839665049645222,0.7839578256618824,0.7839477784795297,0.783940099977152,0.7839368162169594,0.7839379577946975,0.7839420311224774,0.7839469005069052,0.7839506778428046,0.7839523117786391,0.7839517463025445,0.7839496984172518,0.7839472236684394,0.7839452704477758,0.7839443791943126,0.783944594931739,0.7839455715673291,0.7839467855988418,0.783947759159015,0.7839482133538167,0.7839481159891194,0.7839476328335115,0.7839470225529371,0.783946525125923,0.783946283724859,0.7839463188485429,0.7839465509525664,0.7839468520411752,0.7839471014451488,0.7839472255715092,0.7839472118235395,0.7839470981546535,0.7839469477532799,0.7839468211738514,0.7839467561255642,0.7839467600211252,0.7839468147593992,0.7839468891335241,0.7839469527450631,0.7839469862704058,0.783946985428911,0.7839469588115819,0.783946921805698,0.7839468896510475,0.7839468722290489,0.78394687195888,0.7839468847713759,0.7839469030808679,0.7839469192482247,0.7839469282226889,0.7839469286535241,0.7839469224589095,0.7839469133734817,0.7839469052230288,0.7839469005851002,0.7839469002042027,0.7839469031793742,0.7839469076727725,0.7839469117693035,0.7839469141543396,0.7839469144209932,0.7839469129901935,0.7839469107652324,0.7839469087041353,0.7839469074764696,0.7839469073028739,0.7839469079875966,0.7839469090869704,0.7839469101220957,0.7839469107521202,0.7839469108581356,0.783946910530634,0.7839469099872693,0.7839469094673261,0.7839469091440667,0.7839469090811457,0.7839469092371572,0.7839469095053087,0.7839469097661578,0.7839469099316805,0.7839469099679376,0.7839469098938052,0.7839469097614944,0.7839469096306266,0.7839469095459553,0.7839469095253606,0.7839469095605145,0.7839469096256979,0.783946909691253,0.7839469097345159,0.7839469097460003,0.7839469097294578,0.7839469096973305,0.783946909664496,0.7839469096423789,0.7839469096360386,0.7839469096438008,0.7839469096596147,0.7839469096760454,0.7839469096873262,0.7839469096907985,0.7839469096871816,0.783946909679399,0.7839469096711367,0.7839469096653993,0.7839469096635161,0.7839469096652434,0.7839469096690346,0.7839469096731656,0.7839469096761054,0.7839469096771099,0.783946909676297,0.7839469096744446,0.7839469096723823,0.7839469096709019,0.7839469096703541,0.7839469096707362,0.7839469096716458,0.7839469096726736,0.7839469096734223,0.7839469096737193,0.783946909673542,0.783946909673096,0.7839469096725993,0.7839469096722338,0.7839469096720231,0.7839469096721174,0.7839469096723755,0.7839469096726128,0.7839469096728103,0.7839469096728814,0.7839469096728373,0.7839469096727325,0.7839469096726266,0.7839469096725367,0.78394690967249,0.783946909672533,0.7839469096725615,0.7839469096726153,0.7839469096726628,0.783946909672691,0.7839469096726762,0.7839469096726561,0.7839469096726359,0.7839469096725917,0.7839469096725957,0.7839469096725684,0.7839469096726102,0.7839469096725995,0.7839469096726153,0.7839469096725967,0.7839469096726109,0.7839469096725934,0.7839469096726159,0.7839469096725975,0.7839469096726207,0.7839469096726124,0.7839469096726062,0.7839469096726072,0.7839469096726166,0.7839469096726313,0.7839469096725951,0.7839469096726368,0.7839469096725957,0.7839469096726296,0.7839469096726321,0.7839469096726306,0.7839469096726277,0.7839469096726261,0.7839469096726269,0.7839469096726299,0.7839469096726338,0.7839469096726367,0.7839469096726375,0.7839469096726357,0.783946909672607,0.783946909672607,0.7839469096726099,0.7839469096726148,0.7839469096726202,0.7839469096726246,0.7839469096726273,0.7839469096726279,0.7839469096726275,0.7839469096726266,0.7839469096726264,0.7839469096726269,0.7839469096726281,0.7839469096726295,0.7839469096726304,0.7839469096726304],\"type\":\"scatter\",\"name\":\"source1_i_L1\",\"x\":[0.0,0.0001,0.0002,0.0003,0.0004,0.0005,0.0006,0.0007,0.0008,0.0009,0.001,0.0011,0.0012,0.0013,0.0014,0.0015,0.0016,0.0017,0.0018,0.0019,0.002,0.0021,0.0022,0.0023,0.0024,0.0025,0.0026,0.0027,0.0028,0.0029,0.003,0.0031,0.0032,0.0033,0.0034,0.0035,0.0036,0.0037,0.0038,0.0039,0.004,0.0041,0.0042,0.0043,0.0044,0.0045,0.0046,0.0047,0.0048,0.0049,0.005,0.0051,0.0052,0.0053,0.0054,0.0055,0.0056,0.0057,0.0058,0.0059,0.006,0.0061,0.0062,0.0063,0.0064,0.0065,0.0066,0.0067,0.0068,0.0069,0.007,0.0071,0.0072,0.0073,0.0074,0.0075,0.0076,0.0077,0.0078,0.0079,0.008,0.0081,0.0082,0.0083,0.0084,0.0085,0.0086,0.0087,0.0088,0.0089,0.009,0.0091,0.0092,0.0093,0.0094,0.0095,0.0096,0.0097,0.0098,0.0099,0.01,0.0101,0.0102,0.0103,0.0104,0.0105,0.0106,0.0107,0.0108,0.0109,0.011,0.0111,0.0112,0.0113,0.0114,0.0115,0.0116,0.0117,0.0118,0.0119,0.012,0.0121,0.0122,0.0123,0.0124,0.0125,0.0126,0.0127,0.0128,0.0129,0.013,0.0131,0.0132,0.0133,0.0134,0.0135,0.0136,0.0137,0.0138,0.0139,0.014,0.0141,0.0142,0.0143,0.0144,0.0145,0.0146,0.0147,0.0148,0.0149,0.015,0.0151,0.0152,0.0153,0.0154,0.0155,0.0156,0.0157,0.0158,0.0159,0.016,0.0161,0.0162,0.0163,0.0164,0.0165,0.0166,0.0167,0.0168,0.0169,0.017,0.0171,0.0172,0.0173,0.0174,0.0175,0.0176,0.0177,0.0178,0.0179,0.018,0.0181,0.0182,0.0183,0.0184,0.0185,0.0186,0.0187,0.0188,0.0189,0.019,0.0191,0.0192,0.0193,0.0194,0.0195,0.0196,0.0197,0.0198,0.0199,0.02,0.0201,0.0202,0.0203,0.0204,0.0205,0.0206,0.0207,0.0208,0.0209,0.021,0.0211,0.0212,0.0213,0.0214,0.0215,0.0216,0.0217,0.0218,0.0219,0.022,0.0221,0.0222,0.0223,0.0224,0.0225,0.0226,0.0227,0.0228,0.0229,0.023,0.0231,0.0232,0.0233,0.0234,0.0235,0.0236,0.0237,0.0238,0.0239,0.024,0.0241,0.0242,0.0243,0.0244,0.0245,0.0246,0.0247,0.0248,0.0249,0.025]}],\n",
       "        {\"xaxis\":{\"title\":{\"text\":\"Time in Seconds\"}},\"template\":{\"layout\":{\"coloraxis\":{\"colorbar\":{\"ticks\":\"\",\"outlinewidth\":0}},\"xaxis\":{\"gridcolor\":\"white\",\"zerolinewidth\":2,\"title\":{\"standoff\":15},\"ticks\":\"\",\"zerolinecolor\":\"white\",\"automargin\":true,\"linecolor\":\"white\"},\"hovermode\":\"closest\",\"paper_bgcolor\":\"white\",\"geo\":{\"showlakes\":true,\"showland\":true,\"landcolor\":\"#E5ECF6\",\"bgcolor\":\"white\",\"subunitcolor\":\"white\",\"lakecolor\":\"white\"},\"colorscale\":{\"sequential\":[[0.0,\"#0d0887\"],[0.1111111111111111,\"#46039f\"],[0.2222222222222222,\"#7201a8\"],[0.3333333333333333,\"#9c179e\"],[0.4444444444444444,\"#bd3786\"],[0.5555555555555556,\"#d8576b\"],[0.6666666666666666,\"#ed7953\"],[0.7777777777777778,\"#fb9f3a\"],[0.8888888888888888,\"#fdca26\"],[1.0,\"#f0f921\"]],\"diverging\":[[0,\"#8e0152\"],[0.1,\"#c51b7d\"],[0.2,\"#de77ae\"],[0.3,\"#f1b6da\"],[0.4,\"#fde0ef\"],[0.5,\"#f7f7f7\"],[0.6,\"#e6f5d0\"],[0.7,\"#b8e186\"],[0.8,\"#7fbc41\"],[0.9,\"#4d9221\"],[1,\"#276419\"]],\"sequentialminus\":[[0.0,\"#0d0887\"],[0.1111111111111111,\"#46039f\"],[0.2222222222222222,\"#7201a8\"],[0.3333333333333333,\"#9c179e\"],[0.4444444444444444,\"#bd3786\"],[0.5555555555555556,\"#d8576b\"],[0.6666666666666666,\"#ed7953\"],[0.7777777777777778,\"#fb9f3a\"],[0.8888888888888888,\"#fdca26\"],[1.0,\"#f0f921\"]]},\"yaxis\":{\"gridcolor\":\"white\",\"zerolinewidth\":2,\"title\":{\"standoff\":15},\"ticks\":\"\",\"zerolinecolor\":\"white\",\"automargin\":true,\"linecolor\":\"white\"},\"shapedefaults\":{\"line\":{\"color\":\"#2a3f5f\"}},\"hoverlabel\":{\"align\":\"left\"},\"mapbox\":{\"style\":\"light\"},\"polar\":{\"angularaxis\":{\"gridcolor\":\"white\",\"ticks\":\"\",\"linecolor\":\"white\"},\"bgcolor\":\"#E5ECF6\",\"radialaxis\":{\"gridcolor\":\"white\",\"ticks\":\"\",\"linecolor\":\"white\"}},\"autotypenumbers\":\"strict\",\"font\":{\"color\":\"#2a3f5f\"},\"ternary\":{\"baxis\":{\"gridcolor\":\"white\",\"ticks\":\"\",\"linecolor\":\"white\"},\"bgcolor\":\"#E5ECF6\",\"caxis\":{\"gridcolor\":\"white\",\"ticks\":\"\",\"linecolor\":\"white\"},\"aaxis\":{\"gridcolor\":\"white\",\"ticks\":\"\",\"linecolor\":\"white\"}},\"annotationdefaults\":{\"arrowhead\":0,\"arrowwidth\":1,\"arrowcolor\":\"#2a3f5f\"},\"plot_bgcolor\":\"#E5ECF6\",\"title\":{\"x\":0.05},\"scene\":{\"xaxis\":{\"gridcolor\":\"white\",\"gridwidth\":2,\"backgroundcolor\":\"#E5ECF6\",\"ticks\":\"\",\"showbackground\":true,\"zerolinecolor\":\"white\",\"linecolor\":\"white\"},\"zaxis\":{\"gridcolor\":\"white\",\"gridwidth\":2,\"backgroundcolor\":\"#E5ECF6\",\"ticks\":\"\",\"showbackground\":true,\"zerolinecolor\":\"white\",\"linecolor\":\"white\"},\"yaxis\":{\"gridcolor\":\"white\",\"gridwidth\":2,\"backgroundcolor\":\"#E5ECF6\",\"ticks\":\"\",\"showbackground\":true,\"zerolinecolor\":\"white\",\"linecolor\":\"white\"}},\"colorway\":[\"#636efa\",\"#EF553B\",\"#00cc96\",\"#ab63fa\",\"#FFA15A\",\"#19d3f3\",\"#FF6692\",\"#B6E880\",\"#FF97FF\",\"#FECB52\"]},\"data\":{\"barpolar\":[{\"type\":\"barpolar\",\"marker\":{\"line\":{\"color\":\"#E5ECF6\",\"width\":0.5}}}],\"carpet\":[{\"aaxis\":{\"gridcolor\":\"white\",\"endlinecolor\":\"#2a3f5f\",\"minorgridcolor\":\"white\",\"startlinecolor\":\"#2a3f5f\",\"linecolor\":\"white\"},\"type\":\"carpet\",\"baxis\":{\"gridcolor\":\"white\",\"endlinecolor\":\"#2a3f5f\",\"minorgridcolor\":\"white\",\"startlinecolor\":\"#2a3f5f\",\"linecolor\":\"white\"}}],\"scatterpolar\":[{\"type\":\"scatterpolar\",\"marker\":{\"colorbar\":{\"ticks\":\"\",\"outlinewidth\":0}}}],\"parcoords\":[{\"line\":{\"colorbar\":{\"ticks\":\"\",\"outlinewidth\":0}},\"type\":\"parcoords\"}],\"scatter\":[{\"type\":\"scatter\",\"marker\":{\"colorbar\":{\"ticks\":\"\",\"outlinewidth\":0}}}],\"histogram2dcontour\":[{\"colorbar\":{\"ticks\":\"\",\"outlinewidth\":0},\"type\":\"histogram2dcontour\",\"colorscale\":[[0.0,\"#0d0887\"],[0.1111111111111111,\"#46039f\"],[0.2222222222222222,\"#7201a8\"],[0.3333333333333333,\"#9c179e\"],[0.4444444444444444,\"#bd3786\"],[0.5555555555555556,\"#d8576b\"],[0.6666666666666666,\"#ed7953\"],[0.7777777777777778,\"#fb9f3a\"],[0.8888888888888888,\"#fdca26\"],[1.0,\"#f0f921\"]]}],\"contour\":[{\"colorbar\":{\"ticks\":\"\",\"outlinewidth\":0},\"type\":\"contour\",\"colorscale\":[[0.0,\"#0d0887\"],[0.1111111111111111,\"#46039f\"],[0.2222222222222222,\"#7201a8\"],[0.3333333333333333,\"#9c179e\"],[0.4444444444444444,\"#bd3786\"],[0.5555555555555556,\"#d8576b\"],[0.6666666666666666,\"#ed7953\"],[0.7777777777777778,\"#fb9f3a\"],[0.8888888888888888,\"#fdca26\"],[1.0,\"#f0f921\"]]}],\"scattercarpet\":[{\"type\":\"scattercarpet\",\"marker\":{\"colorbar\":{\"ticks\":\"\",\"outlinewidth\":0}}}],\"mesh3d\":[{\"colorbar\":{\"ticks\":\"\",\"outlinewidth\":0},\"type\":\"mesh3d\"}],\"surface\":[{\"colorbar\":{\"ticks\":\"\",\"outlinewidth\":0},\"type\":\"surface\",\"colorscale\":[[0.0,\"#0d0887\"],[0.1111111111111111,\"#46039f\"],[0.2222222222222222,\"#7201a8\"],[0.3333333333333333,\"#9c179e\"],[0.4444444444444444,\"#bd3786\"],[0.5555555555555556,\"#d8576b\"],[0.6666666666666666,\"#ed7953\"],[0.7777777777777778,\"#fb9f3a\"],[0.8888888888888888,\"#fdca26\"],[1.0,\"#f0f921\"]]}],\"scattermapbox\":[{\"type\":\"scattermapbox\",\"marker\":{\"colorbar\":{\"ticks\":\"\",\"outlinewidth\":0}}}],\"scattergeo\":[{\"type\":\"scattergeo\",\"marker\":{\"colorbar\":{\"ticks\":\"\",\"outlinewidth\":0}}}],\"histogram\":[{\"type\":\"histogram\",\"marker\":{\"colorbar\":{\"ticks\":\"\",\"outlinewidth\":0}}}],\"pie\":[{\"type\":\"pie\",\"automargin\":true}],\"choropleth\":[{\"colorbar\":{\"ticks\":\"\",\"outlinewidth\":0},\"type\":\"choropleth\"}],\"heatmapgl\":[{\"colorbar\":{\"ticks\":\"\",\"outlinewidth\":0},\"type\":\"heatmapgl\",\"colorscale\":[[0.0,\"#0d0887\"],[0.1111111111111111,\"#46039f\"],[0.2222222222222222,\"#7201a8\"],[0.3333333333333333,\"#9c179e\"],[0.4444444444444444,\"#bd3786\"],[0.5555555555555556,\"#d8576b\"],[0.6666666666666666,\"#ed7953\"],[0.7777777777777778,\"#fb9f3a\"],[0.8888888888888888,\"#fdca26\"],[1.0,\"#f0f921\"]]}],\"bar\":[{\"type\":\"bar\",\"error_y\":{\"color\":\"#2a3f5f\"},\"error_x\":{\"color\":\"#2a3f5f\"},\"marker\":{\"line\":{\"color\":\"#E5ECF6\",\"width\":0.5}}}],\"heatmap\":[{\"colorbar\":{\"ticks\":\"\",\"outlinewidth\":0},\"type\":\"heatmap\",\"colorscale\":[[0.0,\"#0d0887\"],[0.1111111111111111,\"#46039f\"],[0.2222222222222222,\"#7201a8\"],[0.3333333333333333,\"#9c179e\"],[0.4444444444444444,\"#bd3786\"],[0.5555555555555556,\"#d8576b\"],[0.6666666666666666,\"#ed7953\"],[0.7777777777777778,\"#fb9f3a\"],[0.8888888888888888,\"#fdca26\"],[1.0,\"#f0f921\"]]}],\"contourcarpet\":[{\"colorbar\":{\"ticks\":\"\",\"outlinewidth\":0},\"type\":\"contourcarpet\"}],\"table\":[{\"type\":\"table\",\"header\":{\"line\":{\"color\":\"white\"},\"fill\":{\"color\":\"#C8D4E3\"}},\"cells\":{\"line\":{\"color\":\"white\"},\"fill\":{\"color\":\"#EBF0F8\"}}}],\"scatter3d\":[{\"line\":{\"colorbar\":{\"ticks\":\"\",\"outlinewidth\":0}},\"type\":\"scatter3d\",\"marker\":{\"colorbar\":{\"ticks\":\"\",\"outlinewidth\":0}}}],\"scattergl\":[{\"type\":\"scattergl\",\"marker\":{\"colorbar\":{\"ticks\":\"\",\"outlinewidth\":0}}}],\"histogram2d\":[{\"colorbar\":{\"ticks\":\"\",\"outlinewidth\":0},\"type\":\"histogram2d\",\"colorscale\":[[0.0,\"#0d0887\"],[0.1111111111111111,\"#46039f\"],[0.2222222222222222,\"#7201a8\"],[0.3333333333333333,\"#9c179e\"],[0.4444444444444444,\"#bd3786\"],[0.5555555555555556,\"#d8576b\"],[0.6666666666666666,\"#ed7953\"],[0.7777777777777778,\"#fb9f3a\"],[0.8888888888888888,\"#fdca26\"],[1.0,\"#f0f921\"]]}],\"scatterternary\":[{\"type\":\"scatterternary\",\"marker\":{\"colorbar\":{\"ticks\":\"\",\"outlinewidth\":0}}}],\"scatterpolargl\":[{\"type\":\"scatterpolargl\",\"marker\":{\"colorbar\":{\"ticks\":\"\",\"outlinewidth\":0}}}]}},\"legend\":{\"yanchor\":\"bottom\",\"xanchor\":\"right\",\"y\":1.02,\"orientation\":\"h\",\"x\":1},\"margin\":{\"l\":100,\"b\":80,\"pad\":10,\"r\":80,\"t\":100},\"plot_bgcolor\":\"#f1f3f7\",\"yaxis\":{\"title\":{\"text\":\"State values\"}},\"yaxis2\":{\"titlefont\":{\"color\":\"orange\"},\"overlaying\":\"y\",\"title\":\"Action values\",\"side\":\"right\"},\"height\":550,\"width\":800},\n",
       "        {\"editable\":false,\"responsive\":true,\"staticPlot\":false,\"scrollZoom\":true},\n",
       "    )\n",
       "}\n",
       "\n",
       "        \n",
       "    </script>\n",
       "</div>\n",
       "\n",
       "</body>\n",
       "</html>"
      ],
      "text/plain": [
       "data: [\n",
       "  \"scatter with fields mode, name, type, x, and y\"\n",
       "]\n",
       "\n",
       "layout: \"layout with fields height, legend, margin, plot_bgcolor, template, width, xaxis, yaxis, and yaxis2\"\n",
       "\n"
      ]
     },
     "metadata": {},
     "output_type": "display_data"
    }
   ],
   "source": [
    "states_to_plot = [\"source1_i_L1\"]\n",
    "hook = DataHook(collect_state_ids = states_to_plot)\n",
    "\n",
    "Simulate(controller, env, hook=hook)\n",
    "\n",
    "RenderHookResults(hook = hook,\n",
    "                  states_to_plot  = states_to_plot)"
   ]
  },
  {
   "attachments": {},
   "cell_type": "markdown",
   "id": "069f706d",
   "metadata": {},
   "source": [
    "Above, the simulation results show that the RL-based controller is able to roughly meet the constant current reference of 1 A. Further training, RL topology changes or improved observation features can further improve the learned control performance. "
   ]
  }
 ],
 "metadata": {
  "@webio": {
   "lastCommId": "163056fff8854ffe821ed2e56109c502",
   "lastKernelId": "99741b41-2de8-4b3a-b10a-a475fb0a43fa"
  },
  "kernelspec": {
   "display_name": "Julia 1.8.0",
   "language": "julia",
   "name": "julia-1.8"
  },
  "language_info": {
   "file_extension": ".jl",
   "mimetype": "application/julia",
   "name": "julia",
   "version": "1.8.0"
  }
 },
 "nbformat": 4,
 "nbformat_minor": 5
}
